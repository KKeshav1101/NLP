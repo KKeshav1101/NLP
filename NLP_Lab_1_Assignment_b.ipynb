{
  "nbformat": 4,
  "nbformat_minor": 0,
  "metadata": {
    "colab": {
      "provenance": []
    },
    "kernelspec": {
      "name": "python3",
      "display_name": "Python 3"
    },
    "language_info": {
      "name": "python"
    }
  },
  "cells": [
    {
      "cell_type": "markdown",
      "source": [
        "# NLP Lab 1 Assignment_b"
      ],
      "metadata": {
        "id": "PEJbATPtcbdF"
      }
    },
    {
      "cell_type": "code",
      "execution_count": null,
      "metadata": {
        "colab": {
          "base_uri": "https://localhost:8080/"
        },
        "id": "izNbb4VkZ5ah",
        "outputId": "8aa6a188-3a29-42cf-db09-3b319d7c7e60"
      },
      "outputs": [
        {
          "output_type": "stream",
          "name": "stderr",
          "text": [
            "<ipython-input-4-f0b4122f3a22>:8: SettingWithCopyWarning: \n",
            "A value is trying to be set on a copy of a slice from a DataFrame.\n",
            "Try using .loc[row_indexer,col_indexer] = value instead\n",
            "\n",
            "See the caveats in the documentation: https://pandas.pydata.org/pandas-docs/stable/user_guide/indexing.html#returning-a-view-versus-a-copy\n",
            "  df['text']=df['text'].astype(str)\n"
          ]
        }
      ],
      "source": [
        "import numpy as np\n",
        "import pandas as pd\n",
        "import nltk\n",
        "import spacy\n",
        "\n",
        "full_df=pd.read_csv('unstructured.csv')\n",
        "df=full_df[['text']]\n",
        "df['text']=df['text'].astype(str)"
      ]
    },
    {
      "cell_type": "code",
      "source": [
        "df[\"text_lower\"]=df['text'].str.lower()"
      ],
      "metadata": {
        "colab": {
          "base_uri": "https://localhost:8080/"
        },
        "id": "s1RgxXmVblGe",
        "outputId": "e9e2f59d-628a-4f81-bcc3-2305addb049f"
      },
      "execution_count": null,
      "outputs": [
        {
          "output_type": "stream",
          "name": "stderr",
          "text": [
            "<ipython-input-5-e8863fd24e06>:1: SettingWithCopyWarning: \n",
            "A value is trying to be set on a copy of a slice from a DataFrame.\n",
            "Try using .loc[row_indexer,col_indexer] = value instead\n",
            "\n",
            "See the caveats in the documentation: https://pandas.pydata.org/pandas-docs/stable/user_guide/indexing.html#returning-a-view-versus-a-copy\n",
            "  df[\"text_lower\"]=df['text'].str.lower()\n"
          ]
        }
      ]
    },
    {
      "cell_type": "code",
      "source": [
        "df.head()"
      ],
      "metadata": {
        "colab": {
          "base_uri": "https://localhost:8080/",
          "height": 293
        },
        "id": "U-DDhGQIcOus",
        "outputId": "f7433b73-afca-4e5f-fd96-9cc463aa336b"
      },
      "execution_count": null,
      "outputs": [
        {
          "output_type": "execute_result",
          "data": {
            "text/plain": [
              "                                                text  \\\n",
              "0  @AppleSupport causing the reply to be disregar...   \n",
              "1  @105835 Your business means a lot to us. Pleas...   \n",
              "2  @76328 I really hope you all change but I'm su...   \n",
              "3  @105836 LiveChat is online at the moment - htt...   \n",
              "4  @VirginTrains see attached error message. I've...   \n",
              "\n",
              "                                          text_lower  \n",
              "0  @applesupport causing the reply to be disregar...  \n",
              "1  @105835 your business means a lot to us. pleas...  \n",
              "2  @76328 i really hope you all change but i'm su...  \n",
              "3  @105836 livechat is online at the moment - htt...  \n",
              "4  @virgintrains see attached error message. i've...  "
            ],
            "text/html": [
              "\n",
              "  <div id=\"df-9f02d824-e8dc-42b3-aa53-d8cd625991ab\" class=\"colab-df-container\">\n",
              "    <div>\n",
              "<style scoped>\n",
              "    .dataframe tbody tr th:only-of-type {\n",
              "        vertical-align: middle;\n",
              "    }\n",
              "\n",
              "    .dataframe tbody tr th {\n",
              "        vertical-align: top;\n",
              "    }\n",
              "\n",
              "    .dataframe thead th {\n",
              "        text-align: right;\n",
              "    }\n",
              "</style>\n",
              "<table border=\"1\" class=\"dataframe\">\n",
              "  <thead>\n",
              "    <tr style=\"text-align: right;\">\n",
              "      <th></th>\n",
              "      <th>text</th>\n",
              "      <th>text_lower</th>\n",
              "    </tr>\n",
              "  </thead>\n",
              "  <tbody>\n",
              "    <tr>\n",
              "      <th>0</th>\n",
              "      <td>@AppleSupport causing the reply to be disregar...</td>\n",
              "      <td>@applesupport causing the reply to be disregar...</td>\n",
              "    </tr>\n",
              "    <tr>\n",
              "      <th>1</th>\n",
              "      <td>@105835 Your business means a lot to us. Pleas...</td>\n",
              "      <td>@105835 your business means a lot to us. pleas...</td>\n",
              "    </tr>\n",
              "    <tr>\n",
              "      <th>2</th>\n",
              "      <td>@76328 I really hope you all change but I'm su...</td>\n",
              "      <td>@76328 i really hope you all change but i'm su...</td>\n",
              "    </tr>\n",
              "    <tr>\n",
              "      <th>3</th>\n",
              "      <td>@105836 LiveChat is online at the moment - htt...</td>\n",
              "      <td>@105836 livechat is online at the moment - htt...</td>\n",
              "    </tr>\n",
              "    <tr>\n",
              "      <th>4</th>\n",
              "      <td>@VirginTrains see attached error message. I've...</td>\n",
              "      <td>@virgintrains see attached error message. i've...</td>\n",
              "    </tr>\n",
              "  </tbody>\n",
              "</table>\n",
              "</div>\n",
              "    <div class=\"colab-df-buttons\">\n",
              "\n",
              "  <div class=\"colab-df-container\">\n",
              "    <button class=\"colab-df-convert\" onclick=\"convertToInteractive('df-9f02d824-e8dc-42b3-aa53-d8cd625991ab')\"\n",
              "            title=\"Convert this dataframe to an interactive table.\"\n",
              "            style=\"display:none;\">\n",
              "\n",
              "  <svg xmlns=\"http://www.w3.org/2000/svg\" height=\"24px\" viewBox=\"0 -960 960 960\">\n",
              "    <path d=\"M120-120v-720h720v720H120Zm60-500h600v-160H180v160Zm220 220h160v-160H400v160Zm0 220h160v-160H400v160ZM180-400h160v-160H180v160Zm440 0h160v-160H620v160ZM180-180h160v-160H180v160Zm440 0h160v-160H620v160Z\"/>\n",
              "  </svg>\n",
              "    </button>\n",
              "\n",
              "  <style>\n",
              "    .colab-df-container {\n",
              "      display:flex;\n",
              "      gap: 12px;\n",
              "    }\n",
              "\n",
              "    .colab-df-convert {\n",
              "      background-color: #E8F0FE;\n",
              "      border: none;\n",
              "      border-radius: 50%;\n",
              "      cursor: pointer;\n",
              "      display: none;\n",
              "      fill: #1967D2;\n",
              "      height: 32px;\n",
              "      padding: 0 0 0 0;\n",
              "      width: 32px;\n",
              "    }\n",
              "\n",
              "    .colab-df-convert:hover {\n",
              "      background-color: #E2EBFA;\n",
              "      box-shadow: 0px 1px 2px rgba(60, 64, 67, 0.3), 0px 1px 3px 1px rgba(60, 64, 67, 0.15);\n",
              "      fill: #174EA6;\n",
              "    }\n",
              "\n",
              "    .colab-df-buttons div {\n",
              "      margin-bottom: 4px;\n",
              "    }\n",
              "\n",
              "    [theme=dark] .colab-df-convert {\n",
              "      background-color: #3B4455;\n",
              "      fill: #D2E3FC;\n",
              "    }\n",
              "\n",
              "    [theme=dark] .colab-df-convert:hover {\n",
              "      background-color: #434B5C;\n",
              "      box-shadow: 0px 1px 3px 1px rgba(0, 0, 0, 0.15);\n",
              "      filter: drop-shadow(0px 1px 2px rgba(0, 0, 0, 0.3));\n",
              "      fill: #FFFFFF;\n",
              "    }\n",
              "  </style>\n",
              "\n",
              "    <script>\n",
              "      const buttonEl =\n",
              "        document.querySelector('#df-9f02d824-e8dc-42b3-aa53-d8cd625991ab button.colab-df-convert');\n",
              "      buttonEl.style.display =\n",
              "        google.colab.kernel.accessAllowed ? 'block' : 'none';\n",
              "\n",
              "      async function convertToInteractive(key) {\n",
              "        const element = document.querySelector('#df-9f02d824-e8dc-42b3-aa53-d8cd625991ab');\n",
              "        const dataTable =\n",
              "          await google.colab.kernel.invokeFunction('convertToInteractive',\n",
              "                                                    [key], {});\n",
              "        if (!dataTable) return;\n",
              "\n",
              "        const docLinkHtml = 'Like what you see? Visit the ' +\n",
              "          '<a target=\"_blank\" href=https://colab.research.google.com/notebooks/data_table.ipynb>data table notebook</a>'\n",
              "          + ' to learn more about interactive tables.';\n",
              "        element.innerHTML = '';\n",
              "        dataTable['output_type'] = 'display_data';\n",
              "        await google.colab.output.renderOutput(dataTable, element);\n",
              "        const docLink = document.createElement('div');\n",
              "        docLink.innerHTML = docLinkHtml;\n",
              "        element.appendChild(docLink);\n",
              "      }\n",
              "    </script>\n",
              "  </div>\n",
              "\n",
              "\n",
              "<div id=\"df-f426b1eb-0937-4002-bf1d-82c1361741d0\">\n",
              "  <button class=\"colab-df-quickchart\" onclick=\"quickchart('df-f426b1eb-0937-4002-bf1d-82c1361741d0')\"\n",
              "            title=\"Suggest charts\"\n",
              "            style=\"display:none;\">\n",
              "\n",
              "<svg xmlns=\"http://www.w3.org/2000/svg\" height=\"24px\"viewBox=\"0 0 24 24\"\n",
              "     width=\"24px\">\n",
              "    <g>\n",
              "        <path d=\"M19 3H5c-1.1 0-2 .9-2 2v14c0 1.1.9 2 2 2h14c1.1 0 2-.9 2-2V5c0-1.1-.9-2-2-2zM9 17H7v-7h2v7zm4 0h-2V7h2v10zm4 0h-2v-4h2v4z\"/>\n",
              "    </g>\n",
              "</svg>\n",
              "  </button>\n",
              "\n",
              "<style>\n",
              "  .colab-df-quickchart {\n",
              "      --bg-color: #E8F0FE;\n",
              "      --fill-color: #1967D2;\n",
              "      --hover-bg-color: #E2EBFA;\n",
              "      --hover-fill-color: #174EA6;\n",
              "      --disabled-fill-color: #AAA;\n",
              "      --disabled-bg-color: #DDD;\n",
              "  }\n",
              "\n",
              "  [theme=dark] .colab-df-quickchart {\n",
              "      --bg-color: #3B4455;\n",
              "      --fill-color: #D2E3FC;\n",
              "      --hover-bg-color: #434B5C;\n",
              "      --hover-fill-color: #FFFFFF;\n",
              "      --disabled-bg-color: #3B4455;\n",
              "      --disabled-fill-color: #666;\n",
              "  }\n",
              "\n",
              "  .colab-df-quickchart {\n",
              "    background-color: var(--bg-color);\n",
              "    border: none;\n",
              "    border-radius: 50%;\n",
              "    cursor: pointer;\n",
              "    display: none;\n",
              "    fill: var(--fill-color);\n",
              "    height: 32px;\n",
              "    padding: 0;\n",
              "    width: 32px;\n",
              "  }\n",
              "\n",
              "  .colab-df-quickchart:hover {\n",
              "    background-color: var(--hover-bg-color);\n",
              "    box-shadow: 0 1px 2px rgba(60, 64, 67, 0.3), 0 1px 3px 1px rgba(60, 64, 67, 0.15);\n",
              "    fill: var(--button-hover-fill-color);\n",
              "  }\n",
              "\n",
              "  .colab-df-quickchart-complete:disabled,\n",
              "  .colab-df-quickchart-complete:disabled:hover {\n",
              "    background-color: var(--disabled-bg-color);\n",
              "    fill: var(--disabled-fill-color);\n",
              "    box-shadow: none;\n",
              "  }\n",
              "\n",
              "  .colab-df-spinner {\n",
              "    border: 2px solid var(--fill-color);\n",
              "    border-color: transparent;\n",
              "    border-bottom-color: var(--fill-color);\n",
              "    animation:\n",
              "      spin 1s steps(1) infinite;\n",
              "  }\n",
              "\n",
              "  @keyframes spin {\n",
              "    0% {\n",
              "      border-color: transparent;\n",
              "      border-bottom-color: var(--fill-color);\n",
              "      border-left-color: var(--fill-color);\n",
              "    }\n",
              "    20% {\n",
              "      border-color: transparent;\n",
              "      border-left-color: var(--fill-color);\n",
              "      border-top-color: var(--fill-color);\n",
              "    }\n",
              "    30% {\n",
              "      border-color: transparent;\n",
              "      border-left-color: var(--fill-color);\n",
              "      border-top-color: var(--fill-color);\n",
              "      border-right-color: var(--fill-color);\n",
              "    }\n",
              "    40% {\n",
              "      border-color: transparent;\n",
              "      border-right-color: var(--fill-color);\n",
              "      border-top-color: var(--fill-color);\n",
              "    }\n",
              "    60% {\n",
              "      border-color: transparent;\n",
              "      border-right-color: var(--fill-color);\n",
              "    }\n",
              "    80% {\n",
              "      border-color: transparent;\n",
              "      border-right-color: var(--fill-color);\n",
              "      border-bottom-color: var(--fill-color);\n",
              "    }\n",
              "    90% {\n",
              "      border-color: transparent;\n",
              "      border-bottom-color: var(--fill-color);\n",
              "    }\n",
              "  }\n",
              "</style>\n",
              "\n",
              "  <script>\n",
              "    async function quickchart(key) {\n",
              "      const quickchartButtonEl =\n",
              "        document.querySelector('#' + key + ' button');\n",
              "      quickchartButtonEl.disabled = true;  // To prevent multiple clicks.\n",
              "      quickchartButtonEl.classList.add('colab-df-spinner');\n",
              "      try {\n",
              "        const charts = await google.colab.kernel.invokeFunction(\n",
              "            'suggestCharts', [key], {});\n",
              "      } catch (error) {\n",
              "        console.error('Error during call to suggestCharts:', error);\n",
              "      }\n",
              "      quickchartButtonEl.classList.remove('colab-df-spinner');\n",
              "      quickchartButtonEl.classList.add('colab-df-quickchart-complete');\n",
              "    }\n",
              "    (() => {\n",
              "      let quickchartButtonEl =\n",
              "        document.querySelector('#df-f426b1eb-0937-4002-bf1d-82c1361741d0 button');\n",
              "      quickchartButtonEl.style.display =\n",
              "        google.colab.kernel.accessAllowed ? 'block' : 'none';\n",
              "    })();\n",
              "  </script>\n",
              "</div>\n",
              "\n",
              "    </div>\n",
              "  </div>\n"
            ],
            "application/vnd.google.colaboratory.intrinsic+json": {
              "type": "dataframe",
              "variable_name": "df",
              "summary": "{\n  \"name\": \"df\",\n  \"rows\": 93,\n  \"fields\": [\n    {\n      \"column\": \"text\",\n      \"properties\": {\n        \"dtype\": \"string\",\n        \"num_unique_values\": 93,\n        \"samples\": [\n          \"So the new @76099 update does not let me listen to music and go on whatsapp at the same time?!?\",\n          \"@76495 @91226 Please help! Spotify Premium skipping through songs constantly on android tablet &amp; bluetooth speaker. Tried everything!\",\n          \"@105850 Once the points load and you hit the number, you get it immediately! You'll even receive a congrats email. Are you almost there? ^AC\"\n        ],\n        \"semantic_type\": \"\",\n        \"description\": \"\"\n      }\n    },\n    {\n      \"column\": \"text_lower\",\n      \"properties\": {\n        \"dtype\": \"string\",\n        \"num_unique_values\": 93,\n        \"samples\": [\n          \"so the new @76099 update does not let me listen to music and go on whatsapp at the same time?!?\",\n          \"@76495 @91226 please help! spotify premium skipping through songs constantly on android tablet &amp; bluetooth speaker. tried everything!\",\n          \"@105850 once the points load and you hit the number, you get it immediately! you'll even receive a congrats email. are you almost there? ^ac\"\n        ],\n        \"semantic_type\": \"\",\n        \"description\": \"\"\n      }\n    }\n  ]\n}"
            }
          },
          "metadata": {},
          "execution_count": 6
        }
      ]
    },
    {
      "cell_type": "markdown",
      "source": [
        "## 1. Token"
      ],
      "metadata": {
        "id": "Ie-5xs_Mcgd-"
      }
    },
    {
      "cell_type": "code",
      "source": [
        "from nltk.tokenize import word_tokenize\n",
        "text=\"\"\n",
        "for i in df['text_lower']:\n",
        "    text=text+i+\"\\n\""
      ],
      "metadata": {
        "id": "OdVgk0_7cUck"
      },
      "execution_count": null,
      "outputs": []
    },
    {
      "cell_type": "code",
      "source": [
        "print(text)"
      ],
      "metadata": {
        "colab": {
          "base_uri": "https://localhost:8080/"
        },
        "id": "aEy6cefDc7rN",
        "outputId": "4ce833b9-aa2e-421f-aca5-c91fab725b6a"
      },
      "execution_count": null,
      "outputs": [
        {
          "output_type": "stream",
          "name": "stdout",
          "text": [
            "@applesupport causing the reply to be disregarded and the tapped notification under the keyboard is opened😡😡😡\n",
            "@105835 your business means a lot to us. please dm your name, zip code and additional details about your concern. ^rr https://t.co/znuu1vjn9r\n",
            "@76328 i really hope you all change but i'm sure you won't! because you don't have to!\n",
            "@105836 livechat is online at the moment - https://t.co/sy94vtu8kq or contact 03331 031 031 option 1, 4, 3 (leave a message) to request a call back\n",
            "@virgintrains see attached error message. i've tried leaving a voicemail several times in the past week https://t.co/nxvzjlyx1k\n",
            "@105836 have you tried from another device, miriam ^mm\n",
            "@virgintrains yep, i've tried laptop too several times over the past week and again today. i've tried different browsers too\n",
            "@105836 it's working ok from here, miriam. does this link help https://t.co/0m2mph15eh ? ^mm\n",
            "@virgintrains i still haven't heard &amp; the number i'm directed to by phone is a dead end &amp; the live chat doesn't work. can someone call me?\n",
            "@105836 that's what we're here for miriam 😊  the team should send you an email shortly ^hp\n",
            "@105837 we can help. which version of ios are you on? you can find that in settings &gt; general &gt; about. reply in dm. https://t.co/gdrqu22ypt\n",
            "@105838 @applesupport me too am suffering , hope the can find a solution\n",
            "@applesupport hi #apple, i’ve a concern about the latest ios is too slow on #iphone6 and i am not happy with it. any solution please?\n",
            "@105839 thanks for reaching out to us. we are always happy to help. send us a dm so we can look into this together. https://t.co/gdrqu22ypt\n",
            "i just updated my phone and suddenly everything takes ages to load wtf @76099 this update sux i hate it fix it bye\n",
            "@105840 hi there! what device is this happening on? if you could also let us know the android and spotify versions you're using, that'd be great /ay\n",
            "@spotifycares thanks! version 8.4.22.857 armv7 on anker bluetooth speaker on samsung galaxy tab a (2016) model sm-t280 does distance from speaker matter?\n",
            "@105840 thanks. the distance could possibly affect playback. does logging out &gt; restarting your device &gt; logging back in make a difference? /ay\n",
            "@spotifycares no, but i've moved speaker to about 1 metre away and it's not skipping at the mo - it was about 3 or 4 metres away before. fingers crossed!\n",
            "@105840 that's great to hear. if anything comes up, just let us know. we'll carry on helping out 🙂 /ay\n",
            "@spotifycares brilliant thanks 😊\n",
            "@105840 you're welcome! if there's anything else we can help with, just give us a shout. we're here for you 😉 /cp\n",
            "@76495 @91226 please help! spotify premium skipping through songs constantly on android tablet &amp; bluetooth speaker. tried everything!\n",
            "@105841 we'd love to help! please dm us and let us know any steps you've tried since experiencing these behaviors. https://t.co/gdrqu22ypt\n",
            "@applesupport after the 11.0.2 my phone just sucks most of the apps are broken, wifi disconnects frequently #apple #ios1102 #painfulupdate\n",
            "@105842 we're sorry your flight has been delayed, beatner. are you travelling on the ba8733? if so, the updated departure time we have is 15:30. 1/2\n",
            "first flight for long time with @british_airways. now over one 1h delay for the short jump fra-lcy and no one here to provide status updates\n",
            "@105843 battery life is important, and we're here for you. dm us the ios version your iphone is running. we'll go from there. https://t.co/gdrqu22ypt\n",
            "okay @76099 i used my fucking phone for 2 minutes and it drains it down 8 fucking percent\n",
            "@105844 thanks for reaching out to us. we are always happy to help. send us a dm so we can look into this together. https://t.co/gdrqu22ypt\n",
            "@applesupport can you get my iphone 7plus back on the old ios please?  battery runs out in half the time, apps now frequently crash.\n",
            "@105844 we'd be happy to help. send us a dm and we can start there. https://t.co/gdrqu22ypt\n",
            "you’ve paralysed my phone with your update @76099 grrrrrrrrrr\n",
            "@82476 🤔 we'd like to help sam, which number is calling you? please dm us more info so we can advise further. https://t.co/5pyldjbc6r\n",
            "@o2 i received this a few weeks ago, since then i've been getting 2/3 calls a day from a telemarketer. is someone using your name? https://t.co/gltz4xhcex\n",
            "@105845 i understand this is a frustrating experience, please send a dm with your account information so i can look into this matter for you. -ad\n",
            "my internet is down and xfinity talkin about 24-72 hours... y’all have the game messed up. \n",
            "\n",
            "@77245\n",
            "@105676 i understand how you frustrated this situation can be. please follow us by sending a dm for further assistance. sprint cares. -ac\n",
            "@76803  i service last 40 min sprint can i get a refund https://t.co/wypw9hp6wt\n",
            "@105846 we'd like to help. what happens when you try to listen to apple music &amp; use whatsapp? does the music pause? let us know in dm. https://t.co/gdrqu22ypt\n",
            "so the new @76099 update does not let me listen to music and go on whatsapp at the same time?!?\n",
            "@105847 hi harry! help's here. can you check if logging out &gt; restarting your device &gt; logging back in makes a difference? keep us posted /mu\n",
            "@spotifycares seems to be working at this stage. will let you know if it happens again. cheers\n",
            "@105847 sure thing. we'll keep an eye out for your update /mu\n",
            "@spotifycares problem has come back again today. is there some kind of bug?\n",
            "@105847 thanks for giving us a nudge about this. what device, operating system, and spotify version is this happening on? /ay\n",
            "@spotifycares it's on a macbook air (early 2014), running high sierra, spotify version 1.0.65.320.gac7a8e02\n",
            "@105847 got it. can you try the steps here for us: https://t.co/eqisdmwzat? they should help with this. let us know how it plays out /ay\n",
            "@spotifycares i've been having issues with playback. songs have been stopping midway through and won't restart unless i close and reopen app\n",
            "@105848 let's take a look. what is the exact ios you're using? are you using any specific apps when noticing this? dm us your reply. https://t.co/gdrqu22ypt\n",
            "@applesupport latest version 😡😡 i have read the help page turned off virtually all apps and location svs too - but in typing this i dropped 3% life\n",
            "@applesupport super help - problem solved 😀 once again in love with apple\n",
            "@applesupport #ios11update - is still killing my battery within 12 hours - phone is 10 months old - it’s a disgrace - used to get 2 days\n",
            "@105849 thanks for reaching out to us. we are always happy to help. send us a dm so we can look into this together. https://t.co/gdrqu22ypt\n",
            "took my phone off charge at 7:20am.\n",
            "\n",
            "8:03am - 60% battery remaining.\n",
            "\n",
            "@76099 plz i beg you, sort your battery life out😩\n",
            "@105850 once the points load and you hit the number, you get it immediately! you'll even receive a congrats email. are you almost there? ^ac\n",
            "@southwestair i am! thank you for the answer!!\n",
            "@southwestair just curious....will i get the companion pass the exact moment i get enough points? it will i have to wait? thanks!\n",
            "@105851 we'd like to provide some assistance with this. tell us more about the issue you're experiencing in dm. we'll go from there. https://t.co/gdrqu22ypt\n",
            "@applesupport i need a new code for my i-store. i haven’t recd any but msg is too many sent. help!\n",
            "@105852 are you experiencing an issue with your device? if so, dm us with what's going on. we'll see how we can help from there. https://t.co/gdrqu22ypt\n",
            "@76099 @applesupport fix this update. it’s horrible\n",
            "@105842 i appreciate it's after 15:30 now, so hopefully you will depart very soon. we're sorry for any inconvenience the delay has caused. 2/2 ^jr\n",
            "@british_airways thanks for your answer. response onsite was that aircraft will not depart today, so rebooking to @105853 with now 4h delay...\n",
            "@105842 very sorry to hear this.  we hope you get everything sorted.   kind regards ^jools\n",
            "@105854 i am sorry for the poor experience. can you please dm the full service address and name on the account, as we ass... https://t.co/jezhqgdbmd\n",
            "@ask_spectrum it's just in my yard. i've called 4-5 times in 6 weeks. i'm not a customer but it's pretty tempting. i do have some coaxial\n",
            "@76501 i guess this means free cable for the neighborhood. https://t.co/fbgee9yxpm\n",
            "@105855 hi thomas, if a colleague believes the person buying alcohol looks under 25, they will be challenged for id to prove they're of age. - paige\n",
            "@tesco maybe hire colleagues who can see?\n",
            "@tesco the point is if it's enforced they do it properly or they don't. plus take some common-sense and think does that person look over 18?\n",
            "@105855 hi thomas, this is correct but this helps our store colleagues judge age and protect them from making underage sales. amanda\n",
            "@tesco uk offlicense law is 18. not 25\n",
            "@105855 hi thomas, we operate a think 25 policy at our stores. i'd be flattered to be id'd. :-) - helena\n",
            "got id's @tesco for buying one adnams broadside. is being blind part of the job-spec? i am 35 and 99 kilos.\n",
            "@105856 hi there, could you try deleting your cache and cookies and reinstalling the app if using it? this should fix the issue :) - dani\n",
            "@tesco will i lose all the shopping i've done if i delete the cache/cookies (not using app)?\n",
            "@105856 hi there, as long as you sign out of your account prior to deleting your cache &amp; cookies, you'll still have a full basket :) thanks - mike\n",
            "@tesco done all that. still telling me there are no delivery slots whatsoever.\n",
            "@105856 can you dm me your full name, address and email? i'd be happy to look into this further for you :) thanks - mike\n",
            "hey @tesco, your website's broken. it's telling me there are no delivery slots for the next 3 weeks, which i find slightly unlikely.\n",
            "@105857 is there a particular app that seems to cause these issues more than others? what model iphone are you using? join us in dm. https://t.co/gdrqu22ypt\n",
            "@applesupport i have the latest version ios. it started immediately after i updated my phone.\n",
            "@105857 we'd like to help if we can. when did this start happening? which version of ios are you running currently?\n",
            "my apps stop working without warning and my phone freezes every five minutes! love the new update @76099!!!!\n",
            "@105858 hi agoura, thanks for tweeting. please refer to this article: https://t.co/bssgjzartc &amp; click the link to reply back. ^rashmi https://t.co/a2xkfcrug1\n",
            "@hpsupport problem with printhead  serial# th536d1hn #hpcswus #hpprnt\n",
            "@105859 ups has a service called my choice that will allow your packages to be delivered to ups store. ^ml  https://t.co/bpzkndqww1 https://t.co/wkjhdxwgrq\n",
            "@105860 i wish amazon had an option of where i can just get it shipped to the ups store so i can avoid a lot of the struggle\n",
            "they reschedule my shit for tomorrow https://t.co/rsvzct982t\n",
            "@105861 hey sara, sorry to hear of the issues you are having, can i ask if it's the lay out or just the speed of the website responding? ty - chris\n",
            "@tesco bit of both - finding the layout cumbersome and when removing an item from faves - getting a huge slowdown. not keen on the thin green line https://t.co/9281okeebk\n",
            "@105861 if that doesn't help please dm your full name, address and email including the browser and device so we can log this. thanks - lee 2/2\n",
            "\n"
          ]
        }
      ]
    },
    {
      "cell_type": "code",
      "source": [
        "nltk.download('punkt_tab')"
      ],
      "metadata": {
        "colab": {
          "base_uri": "https://localhost:8080/"
        },
        "id": "bIUdvzHDdOwt",
        "outputId": "50b9ed0a-4af3-4fd1-be84-e52d87ca9055"
      },
      "execution_count": null,
      "outputs": [
        {
          "output_type": "stream",
          "name": "stderr",
          "text": [
            "[nltk_data] Downloading package punkt_tab to /root/nltk_data...\n",
            "[nltk_data]   Unzipping tokenizers/punkt_tab.zip.\n"
          ]
        },
        {
          "output_type": "execute_result",
          "data": {
            "text/plain": [
              "True"
            ]
          },
          "metadata": {},
          "execution_count": 11
        }
      ]
    },
    {
      "cell_type": "code",
      "source": [
        "words=word_tokenize(text)"
      ],
      "metadata": {
        "id": "3OBXkrybdGeU"
      },
      "execution_count": null,
      "outputs": []
    },
    {
      "cell_type": "code",
      "source": [
        "print(words[:10])"
      ],
      "metadata": {
        "colab": {
          "base_uri": "https://localhost:8080/"
        },
        "id": "2S0B051sdLT0",
        "outputId": "24d516c7-f766-46c9-93cf-02512cf67c2c"
      },
      "execution_count": null,
      "outputs": [
        {
          "output_type": "stream",
          "name": "stdout",
          "text": [
            "['@', 'applesupport', 'causing', 'the', 'reply', 'to', 'be', 'disregarded', 'and', 'the']\n"
          ]
        }
      ]
    },
    {
      "cell_type": "markdown",
      "source": [
        "## 2. Lemma"
      ],
      "metadata": {
        "id": "xWCgOjIHdW2c"
      }
    },
    {
      "cell_type": "code",
      "source": [
        "from nltk.stem import WordNetLemmatizer\n",
        "nltk.download('wordnet')\n",
        "lemmatizer=WordNetLemmatizer()\n",
        "lemmatized_words=[lemmatizer.lemmatize(word) for word in words]\n",
        "print(\"\\nLemmatized Words\")\n",
        "print(lemmatized_words)"
      ],
      "metadata": {
        "colab": {
          "base_uri": "https://localhost:8080/"
        },
        "id": "JBG9skbFdUHM",
        "outputId": "ef0d9190-392a-4006-9b8f-320c9a43af81"
      },
      "execution_count": null,
      "outputs": [
        {
          "output_type": "stream",
          "name": "stderr",
          "text": [
            "[nltk_data] Downloading package wordnet to /root/nltk_data...\n"
          ]
        },
        {
          "output_type": "stream",
          "name": "stdout",
          "text": [
            "\n",
            "Lemmatized Words\n",
            "['@', 'applesupport', 'causing', 'the', 'reply', 'to', 'be', 'disregarded', 'and', 'the', 'tapped', 'notification', 'under', 'the', 'keyboard', 'is', 'opened😡😡😡', '@', '105835', 'your', 'business', 'mean', 'a', 'lot', 'to', 'u', '.', 'please', 'dm', 'your', 'name', ',', 'zip', 'code', 'and', 'additional', 'detail', 'about', 'your', 'concern', '.', '^rr', 'http', ':', '//t.co/znuu1vjn9r', '@', '76328', 'i', 'really', 'hope', 'you', 'all', 'change', 'but', 'i', \"'m\", 'sure', 'you', 'wo', \"n't\", '!', 'because', 'you', 'do', \"n't\", 'have', 'to', '!', '@', '105836', 'livechat', 'is', 'online', 'at', 'the', 'moment', '-', 'http', ':', '//t.co/sy94vtu8kq', 'or', 'contact', '03331', '031', '031', 'option', '1', ',', '4', ',', '3', '(', 'leave', 'a', 'message', ')', 'to', 'request', 'a', 'call', 'back', '@', 'virgintrains', 'see', 'attached', 'error', 'message', '.', 'i', \"'ve\", 'tried', 'leaving', 'a', 'voicemail', 'several', 'time', 'in', 'the', 'past', 'week', 'http', ':', '//t.co/nxvzjlyx1k', '@', '105836', 'have', 'you', 'tried', 'from', 'another', 'device', ',', 'miriam', '^mm', '@', 'virgintrains', 'yep', ',', 'i', \"'ve\", 'tried', 'laptop', 'too', 'several', 'time', 'over', 'the', 'past', 'week', 'and', 'again', 'today', '.', 'i', \"'ve\", 'tried', 'different', 'browser', 'too', '@', '105836', 'it', \"'s\", 'working', 'ok', 'from', 'here', ',', 'miriam', '.', 'doe', 'this', 'link', 'help', 'http', ':', '//t.co/0m2mph15eh', '?', '^mm', '@', 'virgintrains', 'i', 'still', 'have', \"n't\", 'heard', '&', 'amp', ';', 'the', 'number', 'i', \"'m\", 'directed', 'to', 'by', 'phone', 'is', 'a', 'dead', 'end', '&', 'amp', ';', 'the', 'live', 'chat', 'doe', \"n't\", 'work', '.', 'can', 'someone', 'call', 'me', '?', '@', '105836', 'that', \"'s\", 'what', 'we', \"'re\", 'here', 'for', 'miriam', '😊', 'the', 'team', 'should', 'send', 'you', 'an', 'email', 'shortly', '^hp', '@', '105837', 'we', 'can', 'help', '.', 'which', 'version', 'of', 'io', 'are', 'you', 'on', '?', 'you', 'can', 'find', 'that', 'in', 'setting', '&', 'gt', ';', 'general', '&', 'gt', ';', 'about', '.', 'reply', 'in', 'dm', '.', 'http', ':', '//t.co/gdrqu22ypt', '@', '105838', '@', 'applesupport', 'me', 'too', 'am', 'suffering', ',', 'hope', 'the', 'can', 'find', 'a', 'solution', '@', 'applesupport', 'hi', '#', 'apple', ',', 'i', '’', 've', 'a', 'concern', 'about', 'the', 'latest', 'io', 'is', 'too', 'slow', 'on', '#', 'iphone6', 'and', 'i', 'am', 'not', 'happy', 'with', 'it', '.', 'any', 'solution', 'please', '?', '@', '105839', 'thanks', 'for', 'reaching', 'out', 'to', 'u', '.', 'we', 'are', 'always', 'happy', 'to', 'help', '.', 'send', 'u', 'a', 'dm', 'so', 'we', 'can', 'look', 'into', 'this', 'together', '.', 'http', ':', '//t.co/gdrqu22ypt', 'i', 'just', 'updated', 'my', 'phone', 'and', 'suddenly', 'everything', 'take', 'age', 'to', 'load', 'wtf', '@', '76099', 'this', 'update', 'sux', 'i', 'hate', 'it', 'fix', 'it', 'bye', '@', '105840', 'hi', 'there', '!', 'what', 'device', 'is', 'this', 'happening', 'on', '?', 'if', 'you', 'could', 'also', 'let', 'u', 'know', 'the', 'android', 'and', 'spotify', 'version', 'you', \"'re\", 'using', ',', 'that', \"'d\", 'be', 'great', '/ay', '@', 'spotifycares', 'thanks', '!', 'version', '8.4.22.857', 'armv7', 'on', 'anker', 'bluetooth', 'speaker', 'on', 'samsung', 'galaxy', 'tab', 'a', '(', '2016', ')', 'model', 'sm-t280', 'doe', 'distance', 'from', 'speaker', 'matter', '?', '@', '105840', 'thanks', '.', 'the', 'distance', 'could', 'possibly', 'affect', 'playback', '.', 'doe', 'logging', 'out', '&', 'gt', ';', 'restarting', 'your', 'device', '&', 'gt', ';', 'logging', 'back', 'in', 'make', 'a', 'difference', '?', '/ay', '@', 'spotifycares', 'no', ',', 'but', 'i', \"'ve\", 'moved', 'speaker', 'to', 'about', '1', 'metre', 'away', 'and', 'it', \"'s\", 'not', 'skipping', 'at', 'the', 'mo', '-', 'it', 'wa', 'about', '3', 'or', '4', 'metre', 'away', 'before', '.', 'finger', 'crossed', '!', '@', '105840', 'that', \"'s\", 'great', 'to', 'hear', '.', 'if', 'anything', 'come', 'up', ',', 'just', 'let', 'u', 'know', '.', 'we', \"'ll\", 'carry', 'on', 'helping', 'out', '🙂', '/ay', '@', 'spotifycares', 'brilliant', 'thanks', '😊', '@', '105840', 'you', \"'re\", 'welcome', '!', 'if', 'there', \"'s\", 'anything', 'else', 'we', 'can', 'help', 'with', ',', 'just', 'give', 'u', 'a', 'shout', '.', 'we', \"'re\", 'here', 'for', 'you', '😉', '/cp', '@', '76495', '@', '91226', 'please', 'help', '!', 'spotify', 'premium', 'skipping', 'through', 'song', 'constantly', 'on', 'android', 'tablet', '&', 'amp', ';', 'bluetooth', 'speaker', '.', 'tried', 'everything', '!', '@', '105841', 'we', \"'d\", 'love', 'to', 'help', '!', 'please', 'dm', 'u', 'and', 'let', 'u', 'know', 'any', 'step', 'you', \"'ve\", 'tried', 'since', 'experiencing', 'these', 'behavior', '.', 'http', ':', '//t.co/gdrqu22ypt', '@', 'applesupport', 'after', 'the', '11.0.2', 'my', 'phone', 'just', 'suck', 'most', 'of', 'the', 'apps', 'are', 'broken', ',', 'wifi', 'disconnect', 'frequently', '#', 'apple', '#', 'ios1102', '#', 'painfulupdate', '@', '105842', 'we', \"'re\", 'sorry', 'your', 'flight', 'ha', 'been', 'delayed', ',', 'beatner', '.', 'are', 'you', 'travelling', 'on', 'the', 'ba8733', '?', 'if', 'so', ',', 'the', 'updated', 'departure', 'time', 'we', 'have', 'is', '15:30', '.', '1/2', 'first', 'flight', 'for', 'long', 'time', 'with', '@', 'british_airways', '.', 'now', 'over', 'one', '1h', 'delay', 'for', 'the', 'short', 'jump', 'fra-lcy', 'and', 'no', 'one', 'here', 'to', 'provide', 'status', 'update', '@', '105843', 'battery', 'life', 'is', 'important', ',', 'and', 'we', \"'re\", 'here', 'for', 'you', '.', 'dm', 'u', 'the', 'io', 'version', 'your', 'iphone', 'is', 'running', '.', 'we', \"'ll\", 'go', 'from', 'there', '.', 'http', ':', '//t.co/gdrqu22ypt', 'okay', '@', '76099', 'i', 'used', 'my', 'fucking', 'phone', 'for', '2', 'minute', 'and', 'it', 'drain', 'it', 'down', '8', 'fucking', 'percent', '@', '105844', 'thanks', 'for', 'reaching', 'out', 'to', 'u', '.', 'we', 'are', 'always', 'happy', 'to', 'help', '.', 'send', 'u', 'a', 'dm', 'so', 'we', 'can', 'look', 'into', 'this', 'together', '.', 'http', ':', '//t.co/gdrqu22ypt', '@', 'applesupport', 'can', 'you', 'get', 'my', 'iphone', '7plus', 'back', 'on', 'the', 'old', 'io', 'please', '?', 'battery', 'run', 'out', 'in', 'half', 'the', 'time', ',', 'apps', 'now', 'frequently', 'crash', '.', '@', '105844', 'we', \"'d\", 'be', 'happy', 'to', 'help', '.', 'send', 'u', 'a', 'dm', 'and', 'we', 'can', 'start', 'there', '.', 'http', ':', '//t.co/gdrqu22ypt', 'you', '’', 've', 'paralysed', 'my', 'phone', 'with', 'your', 'update', '@', '76099', 'grrrrrrrrrr', '@', '82476', '🤔', 'we', \"'d\", 'like', 'to', 'help', 'sam', ',', 'which', 'number', 'is', 'calling', 'you', '?', 'please', 'dm', 'u', 'more', 'info', 'so', 'we', 'can', 'advise', 'further', '.', 'http', ':', '//t.co/5pyldjbc6r', '@', 'o2', 'i', 'received', 'this', 'a', 'few', 'week', 'ago', ',', 'since', 'then', 'i', \"'ve\", 'been', 'getting', '2/3', 'call', 'a', 'day', 'from', 'a', 'telemarketer', '.', 'is', 'someone', 'using', 'your', 'name', '?', 'http', ':', '//t.co/gltz4xhcex', '@', '105845', 'i', 'understand', 'this', 'is', 'a', 'frustrating', 'experience', ',', 'please', 'send', 'a', 'dm', 'with', 'your', 'account', 'information', 'so', 'i', 'can', 'look', 'into', 'this', 'matter', 'for', 'you', '.', '-ad', 'my', 'internet', 'is', 'down', 'and', 'xfinity', 'talkin', 'about', '24-72', 'hour', '...', 'y', '’', 'all', 'have', 'the', 'game', 'messed', 'up', '.', '@', '77245', '@', '105676', 'i', 'understand', 'how', 'you', 'frustrated', 'this', 'situation', 'can', 'be', '.', 'please', 'follow', 'u', 'by', 'sending', 'a', 'dm', 'for', 'further', 'assistance', '.', 'sprint', 'care', '.', '-ac', '@', '76803', 'i', 'service', 'last', '40', 'min', 'sprint', 'can', 'i', 'get', 'a', 'refund', 'http', ':', '//t.co/wypw9hp6wt', '@', '105846', 'we', \"'d\", 'like', 'to', 'help', '.', 'what', 'happens', 'when', 'you', 'try', 'to', 'listen', 'to', 'apple', 'music', '&', 'amp', ';', 'use', 'whatsapp', '?', 'doe', 'the', 'music', 'pause', '?', 'let', 'u', 'know', 'in', 'dm', '.', 'http', ':', '//t.co/gdrqu22ypt', 'so', 'the', 'new', '@', '76099', 'update', 'doe', 'not', 'let', 'me', 'listen', 'to', 'music', 'and', 'go', 'on', 'whatsapp', 'at', 'the', 'same', 'time', '?', '!', '?', '@', '105847', 'hi', 'harry', '!', 'help', \"'s\", 'here', '.', 'can', 'you', 'check', 'if', 'logging', 'out', '&', 'gt', ';', 'restarting', 'your', 'device', '&', 'gt', ';', 'logging', 'back', 'in', 'make', 'a', 'difference', '?', 'keep', 'u', 'posted', '/mu', '@', 'spotifycares', 'seems', 'to', 'be', 'working', 'at', 'this', 'stage', '.', 'will', 'let', 'you', 'know', 'if', 'it', 'happens', 'again', '.', 'cheer', '@', '105847', 'sure', 'thing', '.', 'we', \"'ll\", 'keep', 'an', 'eye', 'out', 'for', 'your', 'update', '/mu', '@', 'spotifycares', 'problem', 'ha', 'come', 'back', 'again', 'today', '.', 'is', 'there', 'some', 'kind', 'of', 'bug', '?', '@', '105847', 'thanks', 'for', 'giving', 'u', 'a', 'nudge', 'about', 'this', '.', 'what', 'device', ',', 'operating', 'system', ',', 'and', 'spotify', 'version', 'is', 'this', 'happening', 'on', '?', '/ay', '@', 'spotifycares', 'it', \"'s\", 'on', 'a', 'macbook', 'air', '(', 'early', '2014', ')', ',', 'running', 'high', 'sierra', ',', 'spotify', 'version', '1.0.65.320.gac7a8e02', '@', '105847', 'got', 'it', '.', 'can', 'you', 'try', 'the', 'step', 'here', 'for', 'u', ':', 'http', ':', '//t.co/eqisdmwzat', '?', 'they', 'should', 'help', 'with', 'this', '.', 'let', 'u', 'know', 'how', 'it', 'play', 'out', '/ay', '@', 'spotifycares', 'i', \"'ve\", 'been', 'having', 'issue', 'with', 'playback', '.', 'song', 'have', 'been', 'stopping', 'midway', 'through', 'and', 'wo', \"n't\", 'restart', 'unless', 'i', 'close', 'and', 'reopen', 'app', '@', '105848', 'let', \"'s\", 'take', 'a', 'look', '.', 'what', 'is', 'the', 'exact', 'io', 'you', \"'re\", 'using', '?', 'are', 'you', 'using', 'any', 'specific', 'apps', 'when', 'noticing', 'this', '?', 'dm', 'u', 'your', 'reply', '.', 'http', ':', '//t.co/gdrqu22ypt', '@', 'applesupport', 'latest', 'version', '😡😡', 'i', 'have', 'read', 'the', 'help', 'page', 'turned', 'off', 'virtually', 'all', 'apps', 'and', 'location', 'svs', 'too', '-', 'but', 'in', 'typing', 'this', 'i', 'dropped', '3', '%', 'life', '@', 'applesupport', 'super', 'help', '-', 'problem', 'solved', '😀', 'once', 'again', 'in', 'love', 'with', 'apple', '@', 'applesupport', '#', 'ios11update', '-', 'is', 'still', 'killing', 'my', 'battery', 'within', '12', 'hour', '-', 'phone', 'is', '10', 'month', 'old', '-', 'it', '’', 's', 'a', 'disgrace', '-', 'used', 'to', 'get', '2', 'day', '@', '105849', 'thanks', 'for', 'reaching', 'out', 'to', 'u', '.', 'we', 'are', 'always', 'happy', 'to', 'help', '.', 'send', 'u', 'a', 'dm', 'so', 'we', 'can', 'look', 'into', 'this', 'together', '.', 'http', ':', '//t.co/gdrqu22ypt', 'took', 'my', 'phone', 'off', 'charge', 'at', '7:20am', '.', '8:03am', '-', '60', '%', 'battery', 'remaining', '.', '@', '76099', 'plz', 'i', 'beg', 'you', ',', 'sort', 'your', 'battery', 'life', 'out😩', '@', '105850', 'once', 'the', 'point', 'load', 'and', 'you', 'hit', 'the', 'number', ',', 'you', 'get', 'it', 'immediately', '!', 'you', \"'ll\", 'even', 'receive', 'a', 'congrats', 'email', '.', 'are', 'you', 'almost', 'there', '?', '^ac', '@', 'southwestair', 'i', 'am', '!', 'thank', 'you', 'for', 'the', 'answer', '!', '!', '@', 'southwestair', 'just', 'curious', '....', 'will', 'i', 'get', 'the', 'companion', 'pas', 'the', 'exact', 'moment', 'i', 'get', 'enough', 'point', '?', 'it', 'will', 'i', 'have', 'to', 'wait', '?', 'thanks', '!', '@', '105851', 'we', \"'d\", 'like', 'to', 'provide', 'some', 'assistance', 'with', 'this', '.', 'tell', 'u', 'more', 'about', 'the', 'issue', 'you', \"'re\", 'experiencing', 'in', 'dm', '.', 'we', \"'ll\", 'go', 'from', 'there', '.', 'http', ':', '//t.co/gdrqu22ypt', '@', 'applesupport', 'i', 'need', 'a', 'new', 'code', 'for', 'my', 'i-store', '.', 'i', 'haven', '’', 't', 'recd', 'any', 'but', 'msg', 'is', 'too', 'many', 'sent', '.', 'help', '!', '@', '105852', 'are', 'you', 'experiencing', 'an', 'issue', 'with', 'your', 'device', '?', 'if', 'so', ',', 'dm', 'u', 'with', 'what', \"'s\", 'going', 'on', '.', 'we', \"'ll\", 'see', 'how', 'we', 'can', 'help', 'from', 'there', '.', 'http', ':', '//t.co/gdrqu22ypt', '@', '76099', '@', 'applesupport', 'fix', 'this', 'update', '.', 'it', '’', 's', 'horrible', '@', '105842', 'i', 'appreciate', 'it', \"'s\", 'after', '15:30', 'now', ',', 'so', 'hopefully', 'you', 'will', 'depart', 'very', 'soon', '.', 'we', \"'re\", 'sorry', 'for', 'any', 'inconvenience', 'the', 'delay', 'ha', 'caused', '.', '2/2', '^jr', '@', 'british_airways', 'thanks', 'for', 'your', 'answer', '.', 'response', 'onsite', 'wa', 'that', 'aircraft', 'will', 'not', 'depart', 'today', ',', 'so', 'rebooking', 'to', '@', '105853', 'with', 'now', '4h', 'delay', '...', '@', '105842', 'very', 'sorry', 'to', 'hear', 'this', '.', 'we', 'hope', 'you', 'get', 'everything', 'sorted', '.', 'kind', 'regard', '^jools', '@', '105854', 'i', 'am', 'sorry', 'for', 'the', 'poor', 'experience', '.', 'can', 'you', 'please', 'dm', 'the', 'full', 'service', 'address', 'and', 'name', 'on', 'the', 'account', ',', 'a', 'we', 'as', '...', 'http', ':', '//t.co/jezhqgdbmd', '@', 'ask_spectrum', 'it', \"'s\", 'just', 'in', 'my', 'yard', '.', 'i', \"'ve\", 'called', '4-5', 'time', 'in', '6', 'week', '.', 'i', \"'m\", 'not', 'a', 'customer', 'but', 'it', \"'s\", 'pretty', 'tempting', '.', 'i', 'do', 'have', 'some', 'coaxial', '@', '76501', 'i', 'guess', 'this', 'mean', 'free', 'cable', 'for', 'the', 'neighborhood', '.', 'http', ':', '//t.co/fbgee9yxpm', '@', '105855', 'hi', 'thomas', ',', 'if', 'a', 'colleague', 'belief', 'the', 'person', 'buying', 'alcohol', 'look', 'under', '25', ',', 'they', 'will', 'be', 'challenged', 'for', 'id', 'to', 'prove', 'they', \"'re\", 'of', 'age', '.', '-', 'paige', '@', 'tesco', 'maybe', 'hire', 'colleague', 'who', 'can', 'see', '?', '@', 'tesco', 'the', 'point', 'is', 'if', 'it', \"'s\", 'enforced', 'they', 'do', 'it', 'properly', 'or', 'they', 'do', \"n't\", '.', 'plus', 'take', 'some', 'common-sense', 'and', 'think', 'doe', 'that', 'person', 'look', 'over', '18', '?', '@', '105855', 'hi', 'thomas', ',', 'this', 'is', 'correct', 'but', 'this', 'help', 'our', 'store', 'colleague', 'judge', 'age', 'and', 'protect', 'them', 'from', 'making', 'underage', 'sale', '.', 'amanda', '@', 'tesco', 'uk', 'offlicense', 'law', 'is', '18.', 'not', '25', '@', '105855', 'hi', 'thomas', ',', 'we', 'operate', 'a', 'think', '25', 'policy', 'at', 'our', 'store', '.', 'i', \"'d\", 'be', 'flattered', 'to', 'be', 'id', \"'d\", '.', ':', '-', ')', '-', 'helena', 'got', 'id', \"'s\", '@', 'tesco', 'for', 'buying', 'one', 'adnams', 'broadside', '.', 'is', 'being', 'blind', 'part', 'of', 'the', 'job-spec', '?', 'i', 'am', '35', 'and', '99', 'kilo', '.', '@', '105856', 'hi', 'there', ',', 'could', 'you', 'try', 'deleting', 'your', 'cache', 'and', 'cooky', 'and', 'reinstalling', 'the', 'app', 'if', 'using', 'it', '?', 'this', 'should', 'fix', 'the', 'issue', ':', ')', '-', 'dani', '@', 'tesco', 'will', 'i', 'lose', 'all', 'the', 'shopping', 'i', \"'ve\", 'done', 'if', 'i', 'delete', 'the', 'cache/cookies', '(', 'not', 'using', 'app', ')', '?', '@', '105856', 'hi', 'there', ',', 'a', 'long', 'a', 'you', 'sign', 'out', 'of', 'your', 'account', 'prior', 'to', 'deleting', 'your', 'cache', '&', 'amp', ';', 'cooky', ',', 'you', \"'ll\", 'still', 'have', 'a', 'full', 'basket', ':', ')', 'thanks', '-', 'mike', '@', 'tesco', 'done', 'all', 'that', '.', 'still', 'telling', 'me', 'there', 'are', 'no', 'delivery', 'slot', 'whatsoever', '.', '@', '105856', 'can', 'you', 'dm', 'me', 'your', 'full', 'name', ',', 'address', 'and', 'email', '?', 'i', \"'d\", 'be', 'happy', 'to', 'look', 'into', 'this', 'further', 'for', 'you', ':', ')', 'thanks', '-', 'mike', 'hey', '@', 'tesco', ',', 'your', 'website', \"'s\", 'broken', '.', 'it', \"'s\", 'telling', 'me', 'there', 'are', 'no', 'delivery', 'slot', 'for', 'the', 'next', '3', 'week', ',', 'which', 'i', 'find', 'slightly', 'unlikely', '.', '@', '105857', 'is', 'there', 'a', 'particular', 'app', 'that', 'seems', 'to', 'cause', 'these', 'issue', 'more', 'than', 'others', '?', 'what', 'model', 'iphone', 'are', 'you', 'using', '?', 'join', 'u', 'in', 'dm', '.', 'http', ':', '//t.co/gdrqu22ypt', '@', 'applesupport', 'i', 'have', 'the', 'latest', 'version', 'io', '.', 'it', 'started', 'immediately', 'after', 'i', 'updated', 'my', 'phone', '.', '@', '105857', 'we', \"'d\", 'like', 'to', 'help', 'if', 'we', 'can', '.', 'when', 'did', 'this', 'start', 'happening', '?', 'which', 'version', 'of', 'io', 'are', 'you', 'running', 'currently', '?', 'my', 'apps', 'stop', 'working', 'without', 'warning', 'and', 'my', 'phone', 'freeze', 'every', 'five', 'minute', '!', 'love', 'the', 'new', 'update', '@', '76099', '!', '!', '!', '!', '@', '105858', 'hi', 'agoura', ',', 'thanks', 'for', 'tweeting', '.', 'please', 'refer', 'to', 'this', 'article', ':', 'http', ':', '//t.co/bssgjzartc', '&', 'amp', ';', 'click', 'the', 'link', 'to', 'reply', 'back', '.', '^rashmi', 'http', ':', '//t.co/a2xkfcrug1', '@', 'hpsupport', 'problem', 'with', 'printhead', 'serial', '#', 'th536d1hn', '#', 'hpcswus', '#', 'hpprnt', '@', '105859', 'ups', 'ha', 'a', 'service', 'called', 'my', 'choice', 'that', 'will', 'allow', 'your', 'package', 'to', 'be', 'delivered', 'to', 'ups', 'store', '.', '^ml', 'http', ':', '//t.co/bpzkndqww1', 'http', ':', '//t.co/wkjhdxwgrq', '@', '105860', 'i', 'wish', 'amazon', 'had', 'an', 'option', 'of', 'where', 'i', 'can', 'just', 'get', 'it', 'shipped', 'to', 'the', 'ups', 'store', 'so', 'i', 'can', 'avoid', 'a', 'lot', 'of', 'the', 'struggle', 'they', 'reschedule', 'my', 'shit', 'for', 'tomorrow', 'http', ':', '//t.co/rsvzct982t', '@', '105861', 'hey', 'sara', ',', 'sorry', 'to', 'hear', 'of', 'the', 'issue', 'you', 'are', 'having', ',', 'can', 'i', 'ask', 'if', 'it', \"'s\", 'the', 'lay', 'out', 'or', 'just', 'the', 'speed', 'of', 'the', 'website', 'responding', '?', 'ty', '-', 'chris', '@', 'tesco', 'bit', 'of', 'both', '-', 'finding', 'the', 'layout', 'cumbersome', 'and', 'when', 'removing', 'an', 'item', 'from', 'faves', '-', 'getting', 'a', 'huge', 'slowdown', '.', 'not', 'keen', 'on', 'the', 'thin', 'green', 'line', 'http', ':', '//t.co/9281okeebk', '@', '105861', 'if', 'that', 'doe', \"n't\", 'help', 'please', 'dm', 'your', 'full', 'name', ',', 'address', 'and', 'email', 'including', 'the', 'browser', 'and', 'device', 'so', 'we', 'can', 'log', 'this', '.', 'thanks', '-', 'lee', '2/2']\n"
          ]
        }
      ]
    },
    {
      "cell_type": "markdown",
      "source": [
        "## 3.Stem"
      ],
      "metadata": {
        "id": "uq6b8XuJdjB8"
      }
    },
    {
      "cell_type": "code",
      "source": [
        "from nltk.stem import PorterStemmer\n",
        "\n",
        "porter_stemmer=PorterStemmer()\n",
        "\n",
        "porter_stems=[porter_stemmer.stem(word) for word in words]\n",
        "print(\"Stemming with porterstemmer\")\n",
        "print(porter_stems)"
      ],
      "metadata": {
        "colab": {
          "base_uri": "https://localhost:8080/"
        },
        "id": "k55nLpJEddn8",
        "outputId": "0da2d707-37f7-4977-d2f2-98b5b8bbf36b"
      },
      "execution_count": null,
      "outputs": [
        {
          "output_type": "stream",
          "name": "stdout",
          "text": [
            "Stemming with porterstemmer\n",
            "['@', 'applesupport', 'caus', 'the', 'repli', 'to', 'be', 'disregard', 'and', 'the', 'tap', 'notif', 'under', 'the', 'keyboard', 'is', 'opened😡😡😡', '@', '105835', 'your', 'busi', 'mean', 'a', 'lot', 'to', 'us', '.', 'pleas', 'dm', 'your', 'name', ',', 'zip', 'code', 'and', 'addit', 'detail', 'about', 'your', 'concern', '.', '^rr', 'http', ':', '//t.co/znuu1vjn9r', '@', '76328', 'i', 'realli', 'hope', 'you', 'all', 'chang', 'but', 'i', \"'m\", 'sure', 'you', 'wo', \"n't\", '!', 'becaus', 'you', 'do', \"n't\", 'have', 'to', '!', '@', '105836', 'livechat', 'is', 'onlin', 'at', 'the', 'moment', '-', 'http', ':', '//t.co/sy94vtu8kq', 'or', 'contact', '03331', '031', '031', 'option', '1', ',', '4', ',', '3', '(', 'leav', 'a', 'messag', ')', 'to', 'request', 'a', 'call', 'back', '@', 'virgintrain', 'see', 'attach', 'error', 'messag', '.', 'i', \"'ve\", 'tri', 'leav', 'a', 'voicemail', 'sever', 'time', 'in', 'the', 'past', 'week', 'http', ':', '//t.co/nxvzjlyx1k', '@', '105836', 'have', 'you', 'tri', 'from', 'anoth', 'devic', ',', 'miriam', '^mm', '@', 'virgintrain', 'yep', ',', 'i', \"'ve\", 'tri', 'laptop', 'too', 'sever', 'time', 'over', 'the', 'past', 'week', 'and', 'again', 'today', '.', 'i', \"'ve\", 'tri', 'differ', 'browser', 'too', '@', '105836', 'it', \"'s\", 'work', 'ok', 'from', 'here', ',', 'miriam', '.', 'doe', 'thi', 'link', 'help', 'http', ':', '//t.co/0m2mph15eh', '?', '^mm', '@', 'virgintrain', 'i', 'still', 'have', \"n't\", 'heard', '&', 'amp', ';', 'the', 'number', 'i', \"'m\", 'direct', 'to', 'by', 'phone', 'is', 'a', 'dead', 'end', '&', 'amp', ';', 'the', 'live', 'chat', 'doe', \"n't\", 'work', '.', 'can', 'someon', 'call', 'me', '?', '@', '105836', 'that', \"'s\", 'what', 'we', \"'re\", 'here', 'for', 'miriam', '😊', 'the', 'team', 'should', 'send', 'you', 'an', 'email', 'shortli', '^hp', '@', '105837', 'we', 'can', 'help', '.', 'which', 'version', 'of', 'io', 'are', 'you', 'on', '?', 'you', 'can', 'find', 'that', 'in', 'set', '&', 'gt', ';', 'gener', '&', 'gt', ';', 'about', '.', 'repli', 'in', 'dm', '.', 'http', ':', '//t.co/gdrqu22ypt', '@', '105838', '@', 'applesupport', 'me', 'too', 'am', 'suffer', ',', 'hope', 'the', 'can', 'find', 'a', 'solut', '@', 'applesupport', 'hi', '#', 'appl', ',', 'i', '’', 've', 'a', 'concern', 'about', 'the', 'latest', 'io', 'is', 'too', 'slow', 'on', '#', 'iphone6', 'and', 'i', 'am', 'not', 'happi', 'with', 'it', '.', 'ani', 'solut', 'pleas', '?', '@', '105839', 'thank', 'for', 'reach', 'out', 'to', 'us', '.', 'we', 'are', 'alway', 'happi', 'to', 'help', '.', 'send', 'us', 'a', 'dm', 'so', 'we', 'can', 'look', 'into', 'thi', 'togeth', '.', 'http', ':', '//t.co/gdrqu22ypt', 'i', 'just', 'updat', 'my', 'phone', 'and', 'suddenli', 'everyth', 'take', 'age', 'to', 'load', 'wtf', '@', '76099', 'thi', 'updat', 'sux', 'i', 'hate', 'it', 'fix', 'it', 'bye', '@', '105840', 'hi', 'there', '!', 'what', 'devic', 'is', 'thi', 'happen', 'on', '?', 'if', 'you', 'could', 'also', 'let', 'us', 'know', 'the', 'android', 'and', 'spotifi', 'version', 'you', \"'re\", 'use', ',', 'that', \"'d\", 'be', 'great', '/ay', '@', 'spotifycar', 'thank', '!', 'version', '8.4.22.857', 'armv7', 'on', 'anker', 'bluetooth', 'speaker', 'on', 'samsung', 'galaxi', 'tab', 'a', '(', '2016', ')', 'model', 'sm-t280', 'doe', 'distanc', 'from', 'speaker', 'matter', '?', '@', '105840', 'thank', '.', 'the', 'distanc', 'could', 'possibl', 'affect', 'playback', '.', 'doe', 'log', 'out', '&', 'gt', ';', 'restart', 'your', 'devic', '&', 'gt', ';', 'log', 'back', 'in', 'make', 'a', 'differ', '?', '/ay', '@', 'spotifycar', 'no', ',', 'but', 'i', \"'ve\", 'move', 'speaker', 'to', 'about', '1', 'metr', 'away', 'and', 'it', \"'s\", 'not', 'skip', 'at', 'the', 'mo', '-', 'it', 'wa', 'about', '3', 'or', '4', 'metr', 'away', 'befor', '.', 'finger', 'cross', '!', '@', '105840', 'that', \"'s\", 'great', 'to', 'hear', '.', 'if', 'anyth', 'come', 'up', ',', 'just', 'let', 'us', 'know', '.', 'we', \"'ll\", 'carri', 'on', 'help', 'out', '🙂', '/ay', '@', 'spotifycar', 'brilliant', 'thank', '😊', '@', '105840', 'you', \"'re\", 'welcom', '!', 'if', 'there', \"'s\", 'anyth', 'els', 'we', 'can', 'help', 'with', ',', 'just', 'give', 'us', 'a', 'shout', '.', 'we', \"'re\", 'here', 'for', 'you', '😉', '/cp', '@', '76495', '@', '91226', 'pleas', 'help', '!', 'spotifi', 'premium', 'skip', 'through', 'song', 'constantli', 'on', 'android', 'tablet', '&', 'amp', ';', 'bluetooth', 'speaker', '.', 'tri', 'everyth', '!', '@', '105841', 'we', \"'d\", 'love', 'to', 'help', '!', 'pleas', 'dm', 'us', 'and', 'let', 'us', 'know', 'ani', 'step', 'you', \"'ve\", 'tri', 'sinc', 'experienc', 'these', 'behavior', '.', 'http', ':', '//t.co/gdrqu22ypt', '@', 'applesupport', 'after', 'the', '11.0.2', 'my', 'phone', 'just', 'suck', 'most', 'of', 'the', 'app', 'are', 'broken', ',', 'wifi', 'disconnect', 'frequent', '#', 'appl', '#', 'ios1102', '#', 'painfulupd', '@', '105842', 'we', \"'re\", 'sorri', 'your', 'flight', 'ha', 'been', 'delay', ',', 'beatner', '.', 'are', 'you', 'travel', 'on', 'the', 'ba8733', '?', 'if', 'so', ',', 'the', 'updat', 'departur', 'time', 'we', 'have', 'is', '15:30', '.', '1/2', 'first', 'flight', 'for', 'long', 'time', 'with', '@', 'british_airway', '.', 'now', 'over', 'one', '1h', 'delay', 'for', 'the', 'short', 'jump', 'fra-lci', 'and', 'no', 'one', 'here', 'to', 'provid', 'statu', 'updat', '@', '105843', 'batteri', 'life', 'is', 'import', ',', 'and', 'we', \"'re\", 'here', 'for', 'you', '.', 'dm', 'us', 'the', 'io', 'version', 'your', 'iphon', 'is', 'run', '.', 'we', \"'ll\", 'go', 'from', 'there', '.', 'http', ':', '//t.co/gdrqu22ypt', 'okay', '@', '76099', 'i', 'use', 'my', 'fuck', 'phone', 'for', '2', 'minut', 'and', 'it', 'drain', 'it', 'down', '8', 'fuck', 'percent', '@', '105844', 'thank', 'for', 'reach', 'out', 'to', 'us', '.', 'we', 'are', 'alway', 'happi', 'to', 'help', '.', 'send', 'us', 'a', 'dm', 'so', 'we', 'can', 'look', 'into', 'thi', 'togeth', '.', 'http', ':', '//t.co/gdrqu22ypt', '@', 'applesupport', 'can', 'you', 'get', 'my', 'iphon', '7plu', 'back', 'on', 'the', 'old', 'io', 'pleas', '?', 'batteri', 'run', 'out', 'in', 'half', 'the', 'time', ',', 'app', 'now', 'frequent', 'crash', '.', '@', '105844', 'we', \"'d\", 'be', 'happi', 'to', 'help', '.', 'send', 'us', 'a', 'dm', 'and', 'we', 'can', 'start', 'there', '.', 'http', ':', '//t.co/gdrqu22ypt', 'you', '’', 've', 'paralys', 'my', 'phone', 'with', 'your', 'updat', '@', '76099', 'grrrrrrrrrr', '@', '82476', '🤔', 'we', \"'d\", 'like', 'to', 'help', 'sam', ',', 'which', 'number', 'is', 'call', 'you', '?', 'pleas', 'dm', 'us', 'more', 'info', 'so', 'we', 'can', 'advis', 'further', '.', 'http', ':', '//t.co/5pyldjbc6r', '@', 'o2', 'i', 'receiv', 'thi', 'a', 'few', 'week', 'ago', ',', 'sinc', 'then', 'i', \"'ve\", 'been', 'get', '2/3', 'call', 'a', 'day', 'from', 'a', 'telemarket', '.', 'is', 'someon', 'use', 'your', 'name', '?', 'http', ':', '//t.co/gltz4xhcex', '@', '105845', 'i', 'understand', 'thi', 'is', 'a', 'frustrat', 'experi', ',', 'pleas', 'send', 'a', 'dm', 'with', 'your', 'account', 'inform', 'so', 'i', 'can', 'look', 'into', 'thi', 'matter', 'for', 'you', '.', '-ad', 'my', 'internet', 'is', 'down', 'and', 'xfiniti', 'talkin', 'about', '24-72', 'hour', '...', 'y', '’', 'all', 'have', 'the', 'game', 'mess', 'up', '.', '@', '77245', '@', '105676', 'i', 'understand', 'how', 'you', 'frustrat', 'thi', 'situat', 'can', 'be', '.', 'pleas', 'follow', 'us', 'by', 'send', 'a', 'dm', 'for', 'further', 'assist', '.', 'sprint', 'care', '.', '-ac', '@', '76803', 'i', 'servic', 'last', '40', 'min', 'sprint', 'can', 'i', 'get', 'a', 'refund', 'http', ':', '//t.co/wypw9hp6wt', '@', '105846', 'we', \"'d\", 'like', 'to', 'help', '.', 'what', 'happen', 'when', 'you', 'tri', 'to', 'listen', 'to', 'appl', 'music', '&', 'amp', ';', 'use', 'whatsapp', '?', 'doe', 'the', 'music', 'paus', '?', 'let', 'us', 'know', 'in', 'dm', '.', 'http', ':', '//t.co/gdrqu22ypt', 'so', 'the', 'new', '@', '76099', 'updat', 'doe', 'not', 'let', 'me', 'listen', 'to', 'music', 'and', 'go', 'on', 'whatsapp', 'at', 'the', 'same', 'time', '?', '!', '?', '@', '105847', 'hi', 'harri', '!', 'help', \"'s\", 'here', '.', 'can', 'you', 'check', 'if', 'log', 'out', '&', 'gt', ';', 'restart', 'your', 'devic', '&', 'gt', ';', 'log', 'back', 'in', 'make', 'a', 'differ', '?', 'keep', 'us', 'post', '/mu', '@', 'spotifycar', 'seem', 'to', 'be', 'work', 'at', 'thi', 'stage', '.', 'will', 'let', 'you', 'know', 'if', 'it', 'happen', 'again', '.', 'cheer', '@', '105847', 'sure', 'thing', '.', 'we', \"'ll\", 'keep', 'an', 'eye', 'out', 'for', 'your', 'updat', '/mu', '@', 'spotifycar', 'problem', 'ha', 'come', 'back', 'again', 'today', '.', 'is', 'there', 'some', 'kind', 'of', 'bug', '?', '@', '105847', 'thank', 'for', 'give', 'us', 'a', 'nudg', 'about', 'thi', '.', 'what', 'devic', ',', 'oper', 'system', ',', 'and', 'spotifi', 'version', 'is', 'thi', 'happen', 'on', '?', '/ay', '@', 'spotifycar', 'it', \"'s\", 'on', 'a', 'macbook', 'air', '(', 'earli', '2014', ')', ',', 'run', 'high', 'sierra', ',', 'spotifi', 'version', '1.0.65.320.gac7a8e02', '@', '105847', 'got', 'it', '.', 'can', 'you', 'tri', 'the', 'step', 'here', 'for', 'us', ':', 'http', ':', '//t.co/eqisdmwzat', '?', 'they', 'should', 'help', 'with', 'thi', '.', 'let', 'us', 'know', 'how', 'it', 'play', 'out', '/ay', '@', 'spotifycar', 'i', \"'ve\", 'been', 'have', 'issu', 'with', 'playback', '.', 'song', 'have', 'been', 'stop', 'midway', 'through', 'and', 'wo', \"n't\", 'restart', 'unless', 'i', 'close', 'and', 'reopen', 'app', '@', '105848', 'let', \"'s\", 'take', 'a', 'look', '.', 'what', 'is', 'the', 'exact', 'io', 'you', \"'re\", 'use', '?', 'are', 'you', 'use', 'ani', 'specif', 'app', 'when', 'notic', 'thi', '?', 'dm', 'us', 'your', 'repli', '.', 'http', ':', '//t.co/gdrqu22ypt', '@', 'applesupport', 'latest', 'version', '😡😡', 'i', 'have', 'read', 'the', 'help', 'page', 'turn', 'off', 'virtual', 'all', 'app', 'and', 'locat', 'sv', 'too', '-', 'but', 'in', 'type', 'thi', 'i', 'drop', '3', '%', 'life', '@', 'applesupport', 'super', 'help', '-', 'problem', 'solv', '😀', 'onc', 'again', 'in', 'love', 'with', 'appl', '@', 'applesupport', '#', 'ios11upd', '-', 'is', 'still', 'kill', 'my', 'batteri', 'within', '12', 'hour', '-', 'phone', 'is', '10', 'month', 'old', '-', 'it', '’', 's', 'a', 'disgrac', '-', 'use', 'to', 'get', '2', 'day', '@', '105849', 'thank', 'for', 'reach', 'out', 'to', 'us', '.', 'we', 'are', 'alway', 'happi', 'to', 'help', '.', 'send', 'us', 'a', 'dm', 'so', 'we', 'can', 'look', 'into', 'thi', 'togeth', '.', 'http', ':', '//t.co/gdrqu22ypt', 'took', 'my', 'phone', 'off', 'charg', 'at', '7:20am', '.', '8:03am', '-', '60', '%', 'batteri', 'remain', '.', '@', '76099', 'plz', 'i', 'beg', 'you', ',', 'sort', 'your', 'batteri', 'life', 'out😩', '@', '105850', 'onc', 'the', 'point', 'load', 'and', 'you', 'hit', 'the', 'number', ',', 'you', 'get', 'it', 'immedi', '!', 'you', \"'ll\", 'even', 'receiv', 'a', 'congrat', 'email', '.', 'are', 'you', 'almost', 'there', '?', '^ac', '@', 'southwestair', 'i', 'am', '!', 'thank', 'you', 'for', 'the', 'answer', '!', '!', '@', 'southwestair', 'just', 'curiou', '....', 'will', 'i', 'get', 'the', 'companion', 'pass', 'the', 'exact', 'moment', 'i', 'get', 'enough', 'point', '?', 'it', 'will', 'i', 'have', 'to', 'wait', '?', 'thank', '!', '@', '105851', 'we', \"'d\", 'like', 'to', 'provid', 'some', 'assist', 'with', 'thi', '.', 'tell', 'us', 'more', 'about', 'the', 'issu', 'you', \"'re\", 'experienc', 'in', 'dm', '.', 'we', \"'ll\", 'go', 'from', 'there', '.', 'http', ':', '//t.co/gdrqu22ypt', '@', 'applesupport', 'i', 'need', 'a', 'new', 'code', 'for', 'my', 'i-stor', '.', 'i', 'haven', '’', 't', 'recd', 'ani', 'but', 'msg', 'is', 'too', 'mani', 'sent', '.', 'help', '!', '@', '105852', 'are', 'you', 'experienc', 'an', 'issu', 'with', 'your', 'devic', '?', 'if', 'so', ',', 'dm', 'us', 'with', 'what', \"'s\", 'go', 'on', '.', 'we', \"'ll\", 'see', 'how', 'we', 'can', 'help', 'from', 'there', '.', 'http', ':', '//t.co/gdrqu22ypt', '@', '76099', '@', 'applesupport', 'fix', 'thi', 'updat', '.', 'it', '’', 's', 'horribl', '@', '105842', 'i', 'appreci', 'it', \"'s\", 'after', '15:30', 'now', ',', 'so', 'hope', 'you', 'will', 'depart', 'veri', 'soon', '.', 'we', \"'re\", 'sorri', 'for', 'ani', 'inconveni', 'the', 'delay', 'ha', 'caus', '.', '2/2', '^jr', '@', 'british_airway', 'thank', 'for', 'your', 'answer', '.', 'respons', 'onsit', 'wa', 'that', 'aircraft', 'will', 'not', 'depart', 'today', ',', 'so', 'rebook', 'to', '@', '105853', 'with', 'now', '4h', 'delay', '...', '@', '105842', 'veri', 'sorri', 'to', 'hear', 'thi', '.', 'we', 'hope', 'you', 'get', 'everyth', 'sort', '.', 'kind', 'regard', '^jool', '@', '105854', 'i', 'am', 'sorri', 'for', 'the', 'poor', 'experi', '.', 'can', 'you', 'pleas', 'dm', 'the', 'full', 'servic', 'address', 'and', 'name', 'on', 'the', 'account', ',', 'as', 'we', 'ass', '...', 'http', ':', '//t.co/jezhqgdbmd', '@', 'ask_spectrum', 'it', \"'s\", 'just', 'in', 'my', 'yard', '.', 'i', \"'ve\", 'call', '4-5', 'time', 'in', '6', 'week', '.', 'i', \"'m\", 'not', 'a', 'custom', 'but', 'it', \"'s\", 'pretti', 'tempt', '.', 'i', 'do', 'have', 'some', 'coaxial', '@', '76501', 'i', 'guess', 'thi', 'mean', 'free', 'cabl', 'for', 'the', 'neighborhood', '.', 'http', ':', '//t.co/fbgee9yxpm', '@', '105855', 'hi', 'thoma', ',', 'if', 'a', 'colleagu', 'believ', 'the', 'person', 'buy', 'alcohol', 'look', 'under', '25', ',', 'they', 'will', 'be', 'challeng', 'for', 'id', 'to', 'prove', 'they', \"'re\", 'of', 'age', '.', '-', 'paig', '@', 'tesco', 'mayb', 'hire', 'colleagu', 'who', 'can', 'see', '?', '@', 'tesco', 'the', 'point', 'is', 'if', 'it', \"'s\", 'enforc', 'they', 'do', 'it', 'properli', 'or', 'they', 'do', \"n't\", '.', 'plu', 'take', 'some', 'common-sens', 'and', 'think', 'doe', 'that', 'person', 'look', 'over', '18', '?', '@', '105855', 'hi', 'thoma', ',', 'thi', 'is', 'correct', 'but', 'thi', 'help', 'our', 'store', 'colleagu', 'judg', 'age', 'and', 'protect', 'them', 'from', 'make', 'underag', 'sale', '.', 'amanda', '@', 'tesco', 'uk', 'offlicens', 'law', 'is', '18.', 'not', '25', '@', '105855', 'hi', 'thoma', ',', 'we', 'oper', 'a', 'think', '25', 'polici', 'at', 'our', 'store', '.', 'i', \"'d\", 'be', 'flatter', 'to', 'be', 'id', \"'d\", '.', ':', '-', ')', '-', 'helena', 'got', 'id', \"'s\", '@', 'tesco', 'for', 'buy', 'one', 'adnam', 'broadsid', '.', 'is', 'be', 'blind', 'part', 'of', 'the', 'job-spec', '?', 'i', 'am', '35', 'and', '99', 'kilo', '.', '@', '105856', 'hi', 'there', ',', 'could', 'you', 'tri', 'delet', 'your', 'cach', 'and', 'cooki', 'and', 'reinstal', 'the', 'app', 'if', 'use', 'it', '?', 'thi', 'should', 'fix', 'the', 'issu', ':', ')', '-', 'dani', '@', 'tesco', 'will', 'i', 'lose', 'all', 'the', 'shop', 'i', \"'ve\", 'done', 'if', 'i', 'delet', 'the', 'cache/cooki', '(', 'not', 'use', 'app', ')', '?', '@', '105856', 'hi', 'there', ',', 'as', 'long', 'as', 'you', 'sign', 'out', 'of', 'your', 'account', 'prior', 'to', 'delet', 'your', 'cach', '&', 'amp', ';', 'cooki', ',', 'you', \"'ll\", 'still', 'have', 'a', 'full', 'basket', ':', ')', 'thank', '-', 'mike', '@', 'tesco', 'done', 'all', 'that', '.', 'still', 'tell', 'me', 'there', 'are', 'no', 'deliveri', 'slot', 'whatsoev', '.', '@', '105856', 'can', 'you', 'dm', 'me', 'your', 'full', 'name', ',', 'address', 'and', 'email', '?', 'i', \"'d\", 'be', 'happi', 'to', 'look', 'into', 'thi', 'further', 'for', 'you', ':', ')', 'thank', '-', 'mike', 'hey', '@', 'tesco', ',', 'your', 'websit', \"'s\", 'broken', '.', 'it', \"'s\", 'tell', 'me', 'there', 'are', 'no', 'deliveri', 'slot', 'for', 'the', 'next', '3', 'week', ',', 'which', 'i', 'find', 'slightli', 'unlik', '.', '@', '105857', 'is', 'there', 'a', 'particular', 'app', 'that', 'seem', 'to', 'caus', 'these', 'issu', 'more', 'than', 'other', '?', 'what', 'model', 'iphon', 'are', 'you', 'use', '?', 'join', 'us', 'in', 'dm', '.', 'http', ':', '//t.co/gdrqu22ypt', '@', 'applesupport', 'i', 'have', 'the', 'latest', 'version', 'io', '.', 'it', 'start', 'immedi', 'after', 'i', 'updat', 'my', 'phone', '.', '@', '105857', 'we', \"'d\", 'like', 'to', 'help', 'if', 'we', 'can', '.', 'when', 'did', 'thi', 'start', 'happen', '?', 'which', 'version', 'of', 'io', 'are', 'you', 'run', 'current', '?', 'my', 'app', 'stop', 'work', 'without', 'warn', 'and', 'my', 'phone', 'freez', 'everi', 'five', 'minut', '!', 'love', 'the', 'new', 'updat', '@', '76099', '!', '!', '!', '!', '@', '105858', 'hi', 'agoura', ',', 'thank', 'for', 'tweet', '.', 'pleas', 'refer', 'to', 'thi', 'articl', ':', 'http', ':', '//t.co/bssgjzartc', '&', 'amp', ';', 'click', 'the', 'link', 'to', 'repli', 'back', '.', '^rashmi', 'http', ':', '//t.co/a2xkfcrug1', '@', 'hpsupport', 'problem', 'with', 'printhead', 'serial', '#', 'th536d1hn', '#', 'hpcswu', '#', 'hpprnt', '@', '105859', 'up', 'ha', 'a', 'servic', 'call', 'my', 'choic', 'that', 'will', 'allow', 'your', 'packag', 'to', 'be', 'deliv', 'to', 'up', 'store', '.', '^ml', 'http', ':', '//t.co/bpzkndqww1', 'http', ':', '//t.co/wkjhdxwgrq', '@', '105860', 'i', 'wish', 'amazon', 'had', 'an', 'option', 'of', 'where', 'i', 'can', 'just', 'get', 'it', 'ship', 'to', 'the', 'up', 'store', 'so', 'i', 'can', 'avoid', 'a', 'lot', 'of', 'the', 'struggl', 'they', 'reschedul', 'my', 'shit', 'for', 'tomorrow', 'http', ':', '//t.co/rsvzct982t', '@', '105861', 'hey', 'sara', ',', 'sorri', 'to', 'hear', 'of', 'the', 'issu', 'you', 'are', 'have', ',', 'can', 'i', 'ask', 'if', 'it', \"'s\", 'the', 'lay', 'out', 'or', 'just', 'the', 'speed', 'of', 'the', 'websit', 'respond', '?', 'ty', '-', 'chri', '@', 'tesco', 'bit', 'of', 'both', '-', 'find', 'the', 'layout', 'cumbersom', 'and', 'when', 'remov', 'an', 'item', 'from', 'fave', '-', 'get', 'a', 'huge', 'slowdown', '.', 'not', 'keen', 'on', 'the', 'thin', 'green', 'line', 'http', ':', '//t.co/9281okeebk', '@', '105861', 'if', 'that', 'doe', \"n't\", 'help', 'pleas', 'dm', 'your', 'full', 'name', ',', 'address', 'and', 'email', 'includ', 'the', 'browser', 'and', 'devic', 'so', 'we', 'can', 'log', 'thi', '.', 'thank', '-', 'lee', '2/2']\n"
          ]
        }
      ]
    },
    {
      "cell_type": "markdown",
      "source": [
        "## 4. Stopword Removal"
      ],
      "metadata": {
        "id": "XfDn3oepdtcE"
      }
    },
    {
      "cell_type": "code",
      "source": [
        "nltk.download('stopwords')"
      ],
      "metadata": {
        "colab": {
          "base_uri": "https://localhost:8080/"
        },
        "id": "z5R56QvrdsHc",
        "outputId": "9c86c177-fa12-449f-eb9f-02d0ce2bd72b"
      },
      "execution_count": null,
      "outputs": [
        {
          "output_type": "stream",
          "name": "stderr",
          "text": [
            "[nltk_data] Downloading package stopwords to /root/nltk_data...\n",
            "[nltk_data]   Unzipping corpora/stopwords.zip.\n"
          ]
        },
        {
          "output_type": "execute_result",
          "data": {
            "text/plain": [
              "True"
            ]
          },
          "metadata": {},
          "execution_count": 18
        }
      ]
    },
    {
      "cell_type": "code",
      "source": [
        "from nltk.corpus import stopwords\n",
        "stop_words=(stopwords.words('english'))\n",
        "filtered_words=[word for word in words if word.lower() not in stop_words]\n",
        "print(\"\\nWords after removing stop words:\")\n",
        "print(filtered_words)"
      ],
      "metadata": {
        "colab": {
          "base_uri": "https://localhost:8080/"
        },
        "id": "CgZxIIzPdzSM",
        "outputId": "c2223fe8-3720-4768-97c1-a7b118e6bb6e"
      },
      "execution_count": null,
      "outputs": [
        {
          "output_type": "stream",
          "name": "stdout",
          "text": [
            "\n",
            "Words after removing stop words:\n",
            "['@', 'applesupport', 'causing', 'reply', 'disregarded', 'tapped', 'notification', 'keyboard', 'opened😡😡😡', '@', '105835', 'business', 'means', 'lot', 'us', '.', 'please', 'dm', 'name', ',', 'zip', 'code', 'additional', 'details', 'concern', '.', '^rr', 'https', ':', '//t.co/znuu1vjn9r', '@', '76328', 'really', 'hope', 'change', \"'m\", 'sure', 'wo', \"n't\", '!', \"n't\", '!', '@', '105836', 'livechat', 'online', 'moment', '-', 'https', ':', '//t.co/sy94vtu8kq', 'contact', '03331', '031', '031', 'option', '1', ',', '4', ',', '3', '(', 'leave', 'message', ')', 'request', 'call', 'back', '@', 'virgintrains', 'see', 'attached', 'error', 'message', '.', \"'ve\", 'tried', 'leaving', 'voicemail', 'several', 'times', 'past', 'week', 'https', ':', '//t.co/nxvzjlyx1k', '@', '105836', 'tried', 'another', 'device', ',', 'miriam', '^mm', '@', 'virgintrains', 'yep', ',', \"'ve\", 'tried', 'laptop', 'several', 'times', 'past', 'week', 'today', '.', \"'ve\", 'tried', 'different', 'browsers', '@', '105836', \"'s\", 'working', 'ok', ',', 'miriam', '.', 'link', 'help', 'https', ':', '//t.co/0m2mph15eh', '?', '^mm', '@', 'virgintrains', 'still', \"n't\", 'heard', '&', 'amp', ';', 'number', \"'m\", 'directed', 'phone', 'dead', 'end', '&', 'amp', ';', 'live', 'chat', \"n't\", 'work', '.', 'someone', 'call', '?', '@', '105836', \"'s\", \"'re\", 'miriam', '😊', 'team', 'send', 'email', 'shortly', '^hp', '@', '105837', 'help', '.', 'version', 'ios', '?', 'find', 'settings', '&', 'gt', ';', 'general', '&', 'gt', ';', '.', 'reply', 'dm', '.', 'https', ':', '//t.co/gdrqu22ypt', '@', '105838', '@', 'applesupport', 'suffering', ',', 'hope', 'find', 'solution', '@', 'applesupport', 'hi', '#', 'apple', ',', '’', 'concern', 'latest', 'ios', 'slow', '#', 'iphone6', 'happy', '.', 'solution', 'please', '?', '@', '105839', 'thanks', 'reaching', 'us', '.', 'always', 'happy', 'help', '.', 'send', 'us', 'dm', 'look', 'together', '.', 'https', ':', '//t.co/gdrqu22ypt', 'updated', 'phone', 'suddenly', 'everything', 'takes', 'ages', 'load', 'wtf', '@', '76099', 'update', 'sux', 'hate', 'fix', 'bye', '@', '105840', 'hi', '!', 'device', 'happening', '?', 'could', 'also', 'let', 'us', 'know', 'android', 'spotify', 'versions', \"'re\", 'using', ',', \"'d\", 'great', '/ay', '@', 'spotifycares', 'thanks', '!', 'version', '8.4.22.857', 'armv7', 'anker', 'bluetooth', 'speaker', 'samsung', 'galaxy', 'tab', '(', '2016', ')', 'model', 'sm-t280', 'distance', 'speaker', 'matter', '?', '@', '105840', 'thanks', '.', 'distance', 'could', 'possibly', 'affect', 'playback', '.', 'logging', '&', 'gt', ';', 'restarting', 'device', '&', 'gt', ';', 'logging', 'back', 'make', 'difference', '?', '/ay', '@', 'spotifycares', ',', \"'ve\", 'moved', 'speaker', '1', 'metre', 'away', \"'s\", 'skipping', 'mo', '-', '3', '4', 'metres', 'away', '.', 'fingers', 'crossed', '!', '@', '105840', \"'s\", 'great', 'hear', '.', 'anything', 'comes', ',', 'let', 'us', 'know', '.', \"'ll\", 'carry', 'helping', '🙂', '/ay', '@', 'spotifycares', 'brilliant', 'thanks', '😊', '@', '105840', \"'re\", 'welcome', '!', \"'s\", 'anything', 'else', 'help', ',', 'give', 'us', 'shout', '.', \"'re\", '😉', '/cp', '@', '76495', '@', '91226', 'please', 'help', '!', 'spotify', 'premium', 'skipping', 'songs', 'constantly', 'android', 'tablet', '&', 'amp', ';', 'bluetooth', 'speaker', '.', 'tried', 'everything', '!', '@', '105841', \"'d\", 'love', 'help', '!', 'please', 'dm', 'us', 'let', 'us', 'know', 'steps', \"'ve\", 'tried', 'since', 'experiencing', 'behaviors', '.', 'https', ':', '//t.co/gdrqu22ypt', '@', 'applesupport', '11.0.2', 'phone', 'sucks', 'apps', 'broken', ',', 'wifi', 'disconnects', 'frequently', '#', 'apple', '#', 'ios1102', '#', 'painfulupdate', '@', '105842', \"'re\", 'sorry', 'flight', 'delayed', ',', 'beatner', '.', 'travelling', 'ba8733', '?', ',', 'updated', 'departure', 'time', '15:30', '.', '1/2', 'first', 'flight', 'long', 'time', '@', 'british_airways', '.', 'one', '1h', 'delay', 'short', 'jump', 'fra-lcy', 'one', 'provide', 'status', 'updates', '@', '105843', 'battery', 'life', 'important', ',', \"'re\", '.', 'dm', 'us', 'ios', 'version', 'iphone', 'running', '.', \"'ll\", 'go', '.', 'https', ':', '//t.co/gdrqu22ypt', 'okay', '@', '76099', 'used', 'fucking', 'phone', '2', 'minutes', 'drains', '8', 'fucking', 'percent', '@', '105844', 'thanks', 'reaching', 'us', '.', 'always', 'happy', 'help', '.', 'send', 'us', 'dm', 'look', 'together', '.', 'https', ':', '//t.co/gdrqu22ypt', '@', 'applesupport', 'get', 'iphone', '7plus', 'back', 'old', 'ios', 'please', '?', 'battery', 'runs', 'half', 'time', ',', 'apps', 'frequently', 'crash', '.', '@', '105844', \"'d\", 'happy', 'help', '.', 'send', 'us', 'dm', 'start', '.', 'https', ':', '//t.co/gdrqu22ypt', '’', 'paralysed', 'phone', 'update', '@', '76099', 'grrrrrrrrrr', '@', '82476', '🤔', \"'d\", 'like', 'help', 'sam', ',', 'number', 'calling', '?', 'please', 'dm', 'us', 'info', 'advise', '.', 'https', ':', '//t.co/5pyldjbc6r', '@', 'o2', 'received', 'weeks', 'ago', ',', 'since', \"'ve\", 'getting', '2/3', 'calls', 'day', 'telemarketer', '.', 'someone', 'using', 'name', '?', 'https', ':', '//t.co/gltz4xhcex', '@', '105845', 'understand', 'frustrating', 'experience', ',', 'please', 'send', 'dm', 'account', 'information', 'look', 'matter', '.', '-ad', 'internet', 'xfinity', 'talkin', '24-72', 'hours', '...', '’', 'game', 'messed', '.', '@', '77245', '@', '105676', 'understand', 'frustrated', 'situation', '.', 'please', 'follow', 'us', 'sending', 'dm', 'assistance', '.', 'sprint', 'cares', '.', '-ac', '@', '76803', 'service', 'last', '40', 'min', 'sprint', 'get', 'refund', 'https', ':', '//t.co/wypw9hp6wt', '@', '105846', \"'d\", 'like', 'help', '.', 'happens', 'try', 'listen', 'apple', 'music', '&', 'amp', ';', 'use', 'whatsapp', '?', 'music', 'pause', '?', 'let', 'us', 'know', 'dm', '.', 'https', ':', '//t.co/gdrqu22ypt', 'new', '@', '76099', 'update', 'let', 'listen', 'music', 'go', 'whatsapp', 'time', '?', '!', '?', '@', '105847', 'hi', 'harry', '!', 'help', \"'s\", '.', 'check', 'logging', '&', 'gt', ';', 'restarting', 'device', '&', 'gt', ';', 'logging', 'back', 'makes', 'difference', '?', 'keep', 'us', 'posted', '/mu', '@', 'spotifycares', 'seems', 'working', 'stage', '.', 'let', 'know', 'happens', '.', 'cheers', '@', '105847', 'sure', 'thing', '.', \"'ll\", 'keep', 'eye', 'update', '/mu', '@', 'spotifycares', 'problem', 'come', 'back', 'today', '.', 'kind', 'bug', '?', '@', '105847', 'thanks', 'giving', 'us', 'nudge', '.', 'device', ',', 'operating', 'system', ',', 'spotify', 'version', 'happening', '?', '/ay', '@', 'spotifycares', \"'s\", 'macbook', 'air', '(', 'early', '2014', ')', ',', 'running', 'high', 'sierra', ',', 'spotify', 'version', '1.0.65.320.gac7a8e02', '@', '105847', 'got', '.', 'try', 'steps', 'us', ':', 'https', ':', '//t.co/eqisdmwzat', '?', 'help', '.', 'let', 'us', 'know', 'plays', '/ay', '@', 'spotifycares', \"'ve\", 'issues', 'playback', '.', 'songs', 'stopping', 'midway', 'wo', \"n't\", 'restart', 'unless', 'close', 'reopen', 'app', '@', '105848', 'let', \"'s\", 'take', 'look', '.', 'exact', 'ios', \"'re\", 'using', '?', 'using', 'specific', 'apps', 'noticing', '?', 'dm', 'us', 'reply', '.', 'https', ':', '//t.co/gdrqu22ypt', '@', 'applesupport', 'latest', 'version', '😡😡', 'read', 'help', 'page', 'turned', 'virtually', 'apps', 'location', 'svs', '-', 'typing', 'dropped', '3', '%', 'life', '@', 'applesupport', 'super', 'help', '-', 'problem', 'solved', '😀', 'love', 'apple', '@', 'applesupport', '#', 'ios11update', '-', 'still', 'killing', 'battery', 'within', '12', 'hours', '-', 'phone', '10', 'months', 'old', '-', '’', 'disgrace', '-', 'used', 'get', '2', 'days', '@', '105849', 'thanks', 'reaching', 'us', '.', 'always', 'happy', 'help', '.', 'send', 'us', 'dm', 'look', 'together', '.', 'https', ':', '//t.co/gdrqu22ypt', 'took', 'phone', 'charge', '7:20am', '.', '8:03am', '-', '60', '%', 'battery', 'remaining', '.', '@', '76099', 'plz', 'beg', ',', 'sort', 'battery', 'life', 'out😩', '@', '105850', 'points', 'load', 'hit', 'number', ',', 'get', 'immediately', '!', \"'ll\", 'even', 'receive', 'congrats', 'email', '.', 'almost', '?', '^ac', '@', 'southwestair', '!', 'thank', 'answer', '!', '!', '@', 'southwestair', 'curious', '....', 'get', 'companion', 'pass', 'exact', 'moment', 'get', 'enough', 'points', '?', 'wait', '?', 'thanks', '!', '@', '105851', \"'d\", 'like', 'provide', 'assistance', '.', 'tell', 'us', 'issue', \"'re\", 'experiencing', 'dm', '.', \"'ll\", 'go', '.', 'https', ':', '//t.co/gdrqu22ypt', '@', 'applesupport', 'need', 'new', 'code', 'i-store', '.', '’', 'recd', 'msg', 'many', 'sent', '.', 'help', '!', '@', '105852', 'experiencing', 'issue', 'device', '?', ',', 'dm', 'us', \"'s\", 'going', '.', \"'ll\", 'see', 'help', '.', 'https', ':', '//t.co/gdrqu22ypt', '@', '76099', '@', 'applesupport', 'fix', 'update', '.', '’', 'horrible', '@', '105842', 'appreciate', \"'s\", '15:30', ',', 'hopefully', 'depart', 'soon', '.', \"'re\", 'sorry', 'inconvenience', 'delay', 'caused', '.', '2/2', '^jr', '@', 'british_airways', 'thanks', 'answer', '.', 'response', 'onsite', 'aircraft', 'depart', 'today', ',', 'rebooking', '@', '105853', '4h', 'delay', '...', '@', '105842', 'sorry', 'hear', '.', 'hope', 'get', 'everything', 'sorted', '.', 'kind', 'regards', '^jools', '@', '105854', 'sorry', 'poor', 'experience', '.', 'please', 'dm', 'full', 'service', 'address', 'name', 'account', ',', 'ass', '...', 'https', ':', '//t.co/jezhqgdbmd', '@', 'ask_spectrum', \"'s\", 'yard', '.', \"'ve\", 'called', '4-5', 'times', '6', 'weeks', '.', \"'m\", 'customer', \"'s\", 'pretty', 'tempting', '.', 'coaxial', '@', '76501', 'guess', 'means', 'free', 'cable', 'neighborhood', '.', 'https', ':', '//t.co/fbgee9yxpm', '@', '105855', 'hi', 'thomas', ',', 'colleague', 'believes', 'person', 'buying', 'alcohol', 'looks', '25', ',', 'challenged', 'id', 'prove', \"'re\", 'age', '.', '-', 'paige', '@', 'tesco', 'maybe', 'hire', 'colleagues', 'see', '?', '@', 'tesco', 'point', \"'s\", 'enforced', 'properly', \"n't\", '.', 'plus', 'take', 'common-sense', 'think', 'person', 'look', '18', '?', '@', '105855', 'hi', 'thomas', ',', 'correct', 'helps', 'store', 'colleagues', 'judge', 'age', 'protect', 'making', 'underage', 'sales', '.', 'amanda', '@', 'tesco', 'uk', 'offlicense', 'law', '18.', '25', '@', '105855', 'hi', 'thomas', ',', 'operate', 'think', '25', 'policy', 'stores', '.', \"'d\", 'flattered', 'id', \"'d\", '.', ':', '-', ')', '-', 'helena', 'got', 'id', \"'s\", '@', 'tesco', 'buying', 'one', 'adnams', 'broadside', '.', 'blind', 'part', 'job-spec', '?', '35', '99', 'kilos', '.', '@', '105856', 'hi', ',', 'could', 'try', 'deleting', 'cache', 'cookies', 'reinstalling', 'app', 'using', '?', 'fix', 'issue', ':', ')', '-', 'dani', '@', 'tesco', 'lose', 'shopping', \"'ve\", 'done', 'delete', 'cache/cookies', '(', 'using', 'app', ')', '?', '@', '105856', 'hi', ',', 'long', 'sign', 'account', 'prior', 'deleting', 'cache', '&', 'amp', ';', 'cookies', ',', \"'ll\", 'still', 'full', 'basket', ':', ')', 'thanks', '-', 'mike', '@', 'tesco', 'done', '.', 'still', 'telling', 'delivery', 'slots', 'whatsoever', '.', '@', '105856', 'dm', 'full', 'name', ',', 'address', 'email', '?', \"'d\", 'happy', 'look', ':', ')', 'thanks', '-', 'mike', 'hey', '@', 'tesco', ',', 'website', \"'s\", 'broken', '.', \"'s\", 'telling', 'delivery', 'slots', 'next', '3', 'weeks', ',', 'find', 'slightly', 'unlikely', '.', '@', '105857', 'particular', 'app', 'seems', 'cause', 'issues', 'others', '?', 'model', 'iphone', 'using', '?', 'join', 'us', 'dm', '.', 'https', ':', '//t.co/gdrqu22ypt', '@', 'applesupport', 'latest', 'version', 'ios', '.', 'started', 'immediately', 'updated', 'phone', '.', '@', '105857', \"'d\", 'like', 'help', '.', 'start', 'happening', '?', 'version', 'ios', 'running', 'currently', '?', 'apps', 'stop', 'working', 'without', 'warning', 'phone', 'freezes', 'every', 'five', 'minutes', '!', 'love', 'new', 'update', '@', '76099', '!', '!', '!', '!', '@', '105858', 'hi', 'agoura', ',', 'thanks', 'tweeting', '.', 'please', 'refer', 'article', ':', 'https', ':', '//t.co/bssgjzartc', '&', 'amp', ';', 'click', 'link', 'reply', 'back', '.', '^rashmi', 'https', ':', '//t.co/a2xkfcrug1', '@', 'hpsupport', 'problem', 'printhead', 'serial', '#', 'th536d1hn', '#', 'hpcswus', '#', 'hpprnt', '@', '105859', 'ups', 'service', 'called', 'choice', 'allow', 'packages', 'delivered', 'ups', 'store', '.', '^ml', 'https', ':', '//t.co/bpzkndqww1', 'https', ':', '//t.co/wkjhdxwgrq', '@', '105860', 'wish', 'amazon', 'option', 'get', 'shipped', 'ups', 'store', 'avoid', 'lot', 'struggle', 'reschedule', 'shit', 'tomorrow', 'https', ':', '//t.co/rsvzct982t', '@', '105861', 'hey', 'sara', ',', 'sorry', 'hear', 'issues', ',', 'ask', \"'s\", 'lay', 'speed', 'website', 'responding', '?', 'ty', '-', 'chris', '@', 'tesco', 'bit', '-', 'finding', 'layout', 'cumbersome', 'removing', 'item', 'faves', '-', 'getting', 'huge', 'slowdown', '.', 'keen', 'thin', 'green', 'line', 'https', ':', '//t.co/9281okeebk', '@', '105861', \"n't\", 'help', 'please', 'dm', 'full', 'name', ',', 'address', 'email', 'including', 'browser', 'device', 'log', '.', 'thanks', '-', 'lee', '2/2']\n"
          ]
        }
      ]
    },
    {
      "cell_type": "markdown",
      "source": [
        "## 4. Punctuation Removal"
      ],
      "metadata": {
        "id": "SFLMwtkdeCVF"
      }
    },
    {
      "cell_type": "code",
      "source": [
        "stop_words+=[\",\",\".\",\"\\'\",\"\\\"\",\";\",\":\",\"@\",\"-\"]\n",
        "filtered_words=[word for word in words if word.lower() not in stop_words]\n",
        "print(\"\\nWords after removing stop words:\")\n",
        "print(filtered_words)"
      ],
      "metadata": {
        "colab": {
          "base_uri": "https://localhost:8080/"
        },
        "id": "HIJEZPjAd4xc",
        "outputId": "1f2fc404-5868-4ceb-8415-0de00337384c"
      },
      "execution_count": null,
      "outputs": [
        {
          "output_type": "stream",
          "name": "stdout",
          "text": [
            "\n",
            "Words after removing stop words:\n",
            "['applesupport', 'causing', 'reply', 'disregarded', 'tapped', 'notification', 'keyboard', 'opened😡😡😡', '105835', 'business', 'means', 'lot', 'us', 'please', 'dm', 'name', 'zip', 'code', 'additional', 'details', 'concern', '^rr', 'https', '//t.co/znuu1vjn9r', '76328', 'really', 'hope', 'change', \"'m\", 'sure', 'wo', \"n't\", '!', \"n't\", '!', '105836', 'livechat', 'online', 'moment', 'https', '//t.co/sy94vtu8kq', 'contact', '03331', '031', '031', 'option', '1', '4', '3', '(', 'leave', 'message', ')', 'request', 'call', 'back', 'virgintrains', 'see', 'attached', 'error', 'message', \"'ve\", 'tried', 'leaving', 'voicemail', 'several', 'times', 'past', 'week', 'https', '//t.co/nxvzjlyx1k', '105836', 'tried', 'another', 'device', 'miriam', '^mm', 'virgintrains', 'yep', \"'ve\", 'tried', 'laptop', 'several', 'times', 'past', 'week', 'today', \"'ve\", 'tried', 'different', 'browsers', '105836', \"'s\", 'working', 'ok', 'miriam', 'link', 'help', 'https', '//t.co/0m2mph15eh', '?', '^mm', 'virgintrains', 'still', \"n't\", 'heard', '&', 'amp', 'number', \"'m\", 'directed', 'phone', 'dead', 'end', '&', 'amp', 'live', 'chat', \"n't\", 'work', 'someone', 'call', '?', '105836', \"'s\", \"'re\", 'miriam', '😊', 'team', 'send', 'email', 'shortly', '^hp', '105837', 'help', 'version', 'ios', '?', 'find', 'settings', '&', 'gt', 'general', '&', 'gt', 'reply', 'dm', 'https', '//t.co/gdrqu22ypt', '105838', 'applesupport', 'suffering', 'hope', 'find', 'solution', 'applesupport', 'hi', '#', 'apple', '’', 'concern', 'latest', 'ios', 'slow', '#', 'iphone6', 'happy', 'solution', 'please', '?', '105839', 'thanks', 'reaching', 'us', 'always', 'happy', 'help', 'send', 'us', 'dm', 'look', 'together', 'https', '//t.co/gdrqu22ypt', 'updated', 'phone', 'suddenly', 'everything', 'takes', 'ages', 'load', 'wtf', '76099', 'update', 'sux', 'hate', 'fix', 'bye', '105840', 'hi', '!', 'device', 'happening', '?', 'could', 'also', 'let', 'us', 'know', 'android', 'spotify', 'versions', \"'re\", 'using', \"'d\", 'great', '/ay', 'spotifycares', 'thanks', '!', 'version', '8.4.22.857', 'armv7', 'anker', 'bluetooth', 'speaker', 'samsung', 'galaxy', 'tab', '(', '2016', ')', 'model', 'sm-t280', 'distance', 'speaker', 'matter', '?', '105840', 'thanks', 'distance', 'could', 'possibly', 'affect', 'playback', 'logging', '&', 'gt', 'restarting', 'device', '&', 'gt', 'logging', 'back', 'make', 'difference', '?', '/ay', 'spotifycares', \"'ve\", 'moved', 'speaker', '1', 'metre', 'away', \"'s\", 'skipping', 'mo', '3', '4', 'metres', 'away', 'fingers', 'crossed', '!', '105840', \"'s\", 'great', 'hear', 'anything', 'comes', 'let', 'us', 'know', \"'ll\", 'carry', 'helping', '🙂', '/ay', 'spotifycares', 'brilliant', 'thanks', '😊', '105840', \"'re\", 'welcome', '!', \"'s\", 'anything', 'else', 'help', 'give', 'us', 'shout', \"'re\", '😉', '/cp', '76495', '91226', 'please', 'help', '!', 'spotify', 'premium', 'skipping', 'songs', 'constantly', 'android', 'tablet', '&', 'amp', 'bluetooth', 'speaker', 'tried', 'everything', '!', '105841', \"'d\", 'love', 'help', '!', 'please', 'dm', 'us', 'let', 'us', 'know', 'steps', \"'ve\", 'tried', 'since', 'experiencing', 'behaviors', 'https', '//t.co/gdrqu22ypt', 'applesupport', '11.0.2', 'phone', 'sucks', 'apps', 'broken', 'wifi', 'disconnects', 'frequently', '#', 'apple', '#', 'ios1102', '#', 'painfulupdate', '105842', \"'re\", 'sorry', 'flight', 'delayed', 'beatner', 'travelling', 'ba8733', '?', 'updated', 'departure', 'time', '15:30', '1/2', 'first', 'flight', 'long', 'time', 'british_airways', 'one', '1h', 'delay', 'short', 'jump', 'fra-lcy', 'one', 'provide', 'status', 'updates', '105843', 'battery', 'life', 'important', \"'re\", 'dm', 'us', 'ios', 'version', 'iphone', 'running', \"'ll\", 'go', 'https', '//t.co/gdrqu22ypt', 'okay', '76099', 'used', 'fucking', 'phone', '2', 'minutes', 'drains', '8', 'fucking', 'percent', '105844', 'thanks', 'reaching', 'us', 'always', 'happy', 'help', 'send', 'us', 'dm', 'look', 'together', 'https', '//t.co/gdrqu22ypt', 'applesupport', 'get', 'iphone', '7plus', 'back', 'old', 'ios', 'please', '?', 'battery', 'runs', 'half', 'time', 'apps', 'frequently', 'crash', '105844', \"'d\", 'happy', 'help', 'send', 'us', 'dm', 'start', 'https', '//t.co/gdrqu22ypt', '’', 'paralysed', 'phone', 'update', '76099', 'grrrrrrrrrr', '82476', '🤔', \"'d\", 'like', 'help', 'sam', 'number', 'calling', '?', 'please', 'dm', 'us', 'info', 'advise', 'https', '//t.co/5pyldjbc6r', 'o2', 'received', 'weeks', 'ago', 'since', \"'ve\", 'getting', '2/3', 'calls', 'day', 'telemarketer', 'someone', 'using', 'name', '?', 'https', '//t.co/gltz4xhcex', '105845', 'understand', 'frustrating', 'experience', 'please', 'send', 'dm', 'account', 'information', 'look', 'matter', '-ad', 'internet', 'xfinity', 'talkin', '24-72', 'hours', '...', '’', 'game', 'messed', '77245', '105676', 'understand', 'frustrated', 'situation', 'please', 'follow', 'us', 'sending', 'dm', 'assistance', 'sprint', 'cares', '-ac', '76803', 'service', 'last', '40', 'min', 'sprint', 'get', 'refund', 'https', '//t.co/wypw9hp6wt', '105846', \"'d\", 'like', 'help', 'happens', 'try', 'listen', 'apple', 'music', '&', 'amp', 'use', 'whatsapp', '?', 'music', 'pause', '?', 'let', 'us', 'know', 'dm', 'https', '//t.co/gdrqu22ypt', 'new', '76099', 'update', 'let', 'listen', 'music', 'go', 'whatsapp', 'time', '?', '!', '?', '105847', 'hi', 'harry', '!', 'help', \"'s\", 'check', 'logging', '&', 'gt', 'restarting', 'device', '&', 'gt', 'logging', 'back', 'makes', 'difference', '?', 'keep', 'us', 'posted', '/mu', 'spotifycares', 'seems', 'working', 'stage', 'let', 'know', 'happens', 'cheers', '105847', 'sure', 'thing', \"'ll\", 'keep', 'eye', 'update', '/mu', 'spotifycares', 'problem', 'come', 'back', 'today', 'kind', 'bug', '?', '105847', 'thanks', 'giving', 'us', 'nudge', 'device', 'operating', 'system', 'spotify', 'version', 'happening', '?', '/ay', 'spotifycares', \"'s\", 'macbook', 'air', '(', 'early', '2014', ')', 'running', 'high', 'sierra', 'spotify', 'version', '1.0.65.320.gac7a8e02', '105847', 'got', 'try', 'steps', 'us', 'https', '//t.co/eqisdmwzat', '?', 'help', 'let', 'us', 'know', 'plays', '/ay', 'spotifycares', \"'ve\", 'issues', 'playback', 'songs', 'stopping', 'midway', 'wo', \"n't\", 'restart', 'unless', 'close', 'reopen', 'app', '105848', 'let', \"'s\", 'take', 'look', 'exact', 'ios', \"'re\", 'using', '?', 'using', 'specific', 'apps', 'noticing', '?', 'dm', 'us', 'reply', 'https', '//t.co/gdrqu22ypt', 'applesupport', 'latest', 'version', '😡😡', 'read', 'help', 'page', 'turned', 'virtually', 'apps', 'location', 'svs', 'typing', 'dropped', '3', '%', 'life', 'applesupport', 'super', 'help', 'problem', 'solved', '😀', 'love', 'apple', 'applesupport', '#', 'ios11update', 'still', 'killing', 'battery', 'within', '12', 'hours', 'phone', '10', 'months', 'old', '’', 'disgrace', 'used', 'get', '2', 'days', '105849', 'thanks', 'reaching', 'us', 'always', 'happy', 'help', 'send', 'us', 'dm', 'look', 'together', 'https', '//t.co/gdrqu22ypt', 'took', 'phone', 'charge', '7:20am', '8:03am', '60', '%', 'battery', 'remaining', '76099', 'plz', 'beg', 'sort', 'battery', 'life', 'out😩', '105850', 'points', 'load', 'hit', 'number', 'get', 'immediately', '!', \"'ll\", 'even', 'receive', 'congrats', 'email', 'almost', '?', '^ac', 'southwestair', '!', 'thank', 'answer', '!', '!', 'southwestair', 'curious', '....', 'get', 'companion', 'pass', 'exact', 'moment', 'get', 'enough', 'points', '?', 'wait', '?', 'thanks', '!', '105851', \"'d\", 'like', 'provide', 'assistance', 'tell', 'us', 'issue', \"'re\", 'experiencing', 'dm', \"'ll\", 'go', 'https', '//t.co/gdrqu22ypt', 'applesupport', 'need', 'new', 'code', 'i-store', '’', 'recd', 'msg', 'many', 'sent', 'help', '!', '105852', 'experiencing', 'issue', 'device', '?', 'dm', 'us', \"'s\", 'going', \"'ll\", 'see', 'help', 'https', '//t.co/gdrqu22ypt', '76099', 'applesupport', 'fix', 'update', '’', 'horrible', '105842', 'appreciate', \"'s\", '15:30', 'hopefully', 'depart', 'soon', \"'re\", 'sorry', 'inconvenience', 'delay', 'caused', '2/2', '^jr', 'british_airways', 'thanks', 'answer', 'response', 'onsite', 'aircraft', 'depart', 'today', 'rebooking', '105853', '4h', 'delay', '...', '105842', 'sorry', 'hear', 'hope', 'get', 'everything', 'sorted', 'kind', 'regards', '^jools', '105854', 'sorry', 'poor', 'experience', 'please', 'dm', 'full', 'service', 'address', 'name', 'account', 'ass', '...', 'https', '//t.co/jezhqgdbmd', 'ask_spectrum', \"'s\", 'yard', \"'ve\", 'called', '4-5', 'times', '6', 'weeks', \"'m\", 'customer', \"'s\", 'pretty', 'tempting', 'coaxial', '76501', 'guess', 'means', 'free', 'cable', 'neighborhood', 'https', '//t.co/fbgee9yxpm', '105855', 'hi', 'thomas', 'colleague', 'believes', 'person', 'buying', 'alcohol', 'looks', '25', 'challenged', 'id', 'prove', \"'re\", 'age', 'paige', 'tesco', 'maybe', 'hire', 'colleagues', 'see', '?', 'tesco', 'point', \"'s\", 'enforced', 'properly', \"n't\", 'plus', 'take', 'common-sense', 'think', 'person', 'look', '18', '?', '105855', 'hi', 'thomas', 'correct', 'helps', 'store', 'colleagues', 'judge', 'age', 'protect', 'making', 'underage', 'sales', 'amanda', 'tesco', 'uk', 'offlicense', 'law', '18.', '25', '105855', 'hi', 'thomas', 'operate', 'think', '25', 'policy', 'stores', \"'d\", 'flattered', 'id', \"'d\", ')', 'helena', 'got', 'id', \"'s\", 'tesco', 'buying', 'one', 'adnams', 'broadside', 'blind', 'part', 'job-spec', '?', '35', '99', 'kilos', '105856', 'hi', 'could', 'try', 'deleting', 'cache', 'cookies', 'reinstalling', 'app', 'using', '?', 'fix', 'issue', ')', 'dani', 'tesco', 'lose', 'shopping', \"'ve\", 'done', 'delete', 'cache/cookies', '(', 'using', 'app', ')', '?', '105856', 'hi', 'long', 'sign', 'account', 'prior', 'deleting', 'cache', '&', 'amp', 'cookies', \"'ll\", 'still', 'full', 'basket', ')', 'thanks', 'mike', 'tesco', 'done', 'still', 'telling', 'delivery', 'slots', 'whatsoever', '105856', 'dm', 'full', 'name', 'address', 'email', '?', \"'d\", 'happy', 'look', ')', 'thanks', 'mike', 'hey', 'tesco', 'website', \"'s\", 'broken', \"'s\", 'telling', 'delivery', 'slots', 'next', '3', 'weeks', 'find', 'slightly', 'unlikely', '105857', 'particular', 'app', 'seems', 'cause', 'issues', 'others', '?', 'model', 'iphone', 'using', '?', 'join', 'us', 'dm', 'https', '//t.co/gdrqu22ypt', 'applesupport', 'latest', 'version', 'ios', 'started', 'immediately', 'updated', 'phone', '105857', \"'d\", 'like', 'help', 'start', 'happening', '?', 'version', 'ios', 'running', 'currently', '?', 'apps', 'stop', 'working', 'without', 'warning', 'phone', 'freezes', 'every', 'five', 'minutes', '!', 'love', 'new', 'update', '76099', '!', '!', '!', '!', '105858', 'hi', 'agoura', 'thanks', 'tweeting', 'please', 'refer', 'article', 'https', '//t.co/bssgjzartc', '&', 'amp', 'click', 'link', 'reply', 'back', '^rashmi', 'https', '//t.co/a2xkfcrug1', 'hpsupport', 'problem', 'printhead', 'serial', '#', 'th536d1hn', '#', 'hpcswus', '#', 'hpprnt', '105859', 'ups', 'service', 'called', 'choice', 'allow', 'packages', 'delivered', 'ups', 'store', '^ml', 'https', '//t.co/bpzkndqww1', 'https', '//t.co/wkjhdxwgrq', '105860', 'wish', 'amazon', 'option', 'get', 'shipped', 'ups', 'store', 'avoid', 'lot', 'struggle', 'reschedule', 'shit', 'tomorrow', 'https', '//t.co/rsvzct982t', '105861', 'hey', 'sara', 'sorry', 'hear', 'issues', 'ask', \"'s\", 'lay', 'speed', 'website', 'responding', '?', 'ty', 'chris', 'tesco', 'bit', 'finding', 'layout', 'cumbersome', 'removing', 'item', 'faves', 'getting', 'huge', 'slowdown', 'keen', 'thin', 'green', 'line', 'https', '//t.co/9281okeebk', '105861', \"n't\", 'help', 'please', 'dm', 'full', 'name', 'address', 'email', 'including', 'browser', 'device', 'log', 'thanks', 'lee', '2/2']\n"
          ]
        }
      ]
    },
    {
      "cell_type": "markdown",
      "source": [
        "## 5. Subject and noun extraction"
      ],
      "metadata": {
        "id": "o8aZvNvNexO1"
      }
    },
    {
      "cell_type": "code",
      "source": [
        "from nltk import word_tokenize,pos_tag,ne_chunk\n",
        "nltk.download('punkt_tab')\n",
        "nltk.download('maxent_ne_chunker_tab')\n",
        "nltk.download('words')\n",
        "nltk.download('averaged_perceptron_tagger_eng')"
      ],
      "metadata": {
        "colab": {
          "base_uri": "https://localhost:8080/"
        },
        "id": "7vv8SwlzeXpc",
        "outputId": "7686a6fd-f70c-4a7d-a0d4-073347352c53"
      },
      "execution_count": null,
      "outputs": [
        {
          "output_type": "stream",
          "name": "stderr",
          "text": [
            "[nltk_data] Downloading package punkt_tab to /root/nltk_data...\n",
            "[nltk_data]   Package punkt_tab is already up-to-date!\n",
            "[nltk_data] Downloading package maxent_ne_chunker_tab to\n",
            "[nltk_data]     /root/nltk_data...\n",
            "[nltk_data]   Package maxent_ne_chunker_tab is already up-to-date!\n",
            "[nltk_data] Downloading package words to /root/nltk_data...\n",
            "[nltk_data]   Package words is already up-to-date!\n",
            "[nltk_data] Downloading package averaged_perceptron_tagger_eng to\n",
            "[nltk_data]     /root/nltk_data...\n",
            "[nltk_data]   Package averaged_perceptron_tagger_eng is already up-to-\n",
            "[nltk_data]       date!\n"
          ]
        },
        {
          "output_type": "execute_result",
          "data": {
            "text/plain": [
              "True"
            ]
          },
          "metadata": {},
          "execution_count": 33
        }
      ]
    },
    {
      "cell_type": "code",
      "source": [
        "words=word_tokenize(text)\n",
        "tags=pos_tag(words)\n",
        "ner_tags=ne_chunk(tags)\n",
        "for entity in ner_tags:\n",
        "  if isinstance(entity,nltk.Tree):\n",
        "    entity_words=[word for word,tag in entity.leaves()]\n",
        "    entity_name=\"\".join(entity_words)\n",
        "    entity_label=entity.label()\n",
        "    print(f\"Entity:{entity_name},Label:{entity_label}\")"
      ],
      "metadata": {
        "id": "BvIeP8dse6Y8"
      },
      "execution_count": null,
      "outputs": []
    },
    {
      "cell_type": "markdown",
      "source": [
        "## 7.Parse Tree Const"
      ],
      "metadata": {
        "id": "iq-84Lnwft7c"
      }
    },
    {
      "cell_type": "code",
      "source": [
        "df"
      ],
      "metadata": {
        "colab": {
          "base_uri": "https://localhost:8080/",
          "height": 597
        },
        "id": "2YhMr-ZEe-WL",
        "outputId": "382d0853-232d-4c11-fab7-0b8dca7f9da4"
      },
      "execution_count": null,
      "outputs": [
        {
          "output_type": "execute_result",
          "data": {
            "text/plain": [
              "                                                 text  \\\n",
              "0   @AppleSupport causing the reply to be disregar...   \n",
              "1   @105835 Your business means a lot to us. Pleas...   \n",
              "2   @76328 I really hope you all change but I'm su...   \n",
              "3   @105836 LiveChat is online at the moment - htt...   \n",
              "4   @VirginTrains see attached error message. I've...   \n",
              "..                                                ...   \n",
              "88  @105860 I wish Amazon had an option of where I...   \n",
              "89  They reschedule my shit for tomorrow https://t...   \n",
              "90  @105861 Hey Sara, sorry to hear of the issues ...   \n",
              "91  @Tesco bit of both - finding the layout cumber...   \n",
              "92  @105861 If that doesn't help please DM your fu...   \n",
              "\n",
              "                                           text_lower  \n",
              "0   @applesupport causing the reply to be disregar...  \n",
              "1   @105835 your business means a lot to us. pleas...  \n",
              "2   @76328 i really hope you all change but i'm su...  \n",
              "3   @105836 livechat is online at the moment - htt...  \n",
              "4   @virgintrains see attached error message. i've...  \n",
              "..                                                ...  \n",
              "88  @105860 i wish amazon had an option of where i...  \n",
              "89  they reschedule my shit for tomorrow https://t...  \n",
              "90  @105861 hey sara, sorry to hear of the issues ...  \n",
              "91  @tesco bit of both - finding the layout cumber...  \n",
              "92  @105861 if that doesn't help please dm your fu...  \n",
              "\n",
              "[93 rows x 2 columns]"
            ],
            "text/html": [
              "\n",
              "  <div id=\"df-104120cd-6ecf-46c0-8593-6970f12ad5e1\" class=\"colab-df-container\">\n",
              "    <div>\n",
              "<style scoped>\n",
              "    .dataframe tbody tr th:only-of-type {\n",
              "        vertical-align: middle;\n",
              "    }\n",
              "\n",
              "    .dataframe tbody tr th {\n",
              "        vertical-align: top;\n",
              "    }\n",
              "\n",
              "    .dataframe thead th {\n",
              "        text-align: right;\n",
              "    }\n",
              "</style>\n",
              "<table border=\"1\" class=\"dataframe\">\n",
              "  <thead>\n",
              "    <tr style=\"text-align: right;\">\n",
              "      <th></th>\n",
              "      <th>text</th>\n",
              "      <th>text_lower</th>\n",
              "    </tr>\n",
              "  </thead>\n",
              "  <tbody>\n",
              "    <tr>\n",
              "      <th>0</th>\n",
              "      <td>@AppleSupport causing the reply to be disregar...</td>\n",
              "      <td>@applesupport causing the reply to be disregar...</td>\n",
              "    </tr>\n",
              "    <tr>\n",
              "      <th>1</th>\n",
              "      <td>@105835 Your business means a lot to us. Pleas...</td>\n",
              "      <td>@105835 your business means a lot to us. pleas...</td>\n",
              "    </tr>\n",
              "    <tr>\n",
              "      <th>2</th>\n",
              "      <td>@76328 I really hope you all change but I'm su...</td>\n",
              "      <td>@76328 i really hope you all change but i'm su...</td>\n",
              "    </tr>\n",
              "    <tr>\n",
              "      <th>3</th>\n",
              "      <td>@105836 LiveChat is online at the moment - htt...</td>\n",
              "      <td>@105836 livechat is online at the moment - htt...</td>\n",
              "    </tr>\n",
              "    <tr>\n",
              "      <th>4</th>\n",
              "      <td>@VirginTrains see attached error message. I've...</td>\n",
              "      <td>@virgintrains see attached error message. i've...</td>\n",
              "    </tr>\n",
              "    <tr>\n",
              "      <th>...</th>\n",
              "      <td>...</td>\n",
              "      <td>...</td>\n",
              "    </tr>\n",
              "    <tr>\n",
              "      <th>88</th>\n",
              "      <td>@105860 I wish Amazon had an option of where I...</td>\n",
              "      <td>@105860 i wish amazon had an option of where i...</td>\n",
              "    </tr>\n",
              "    <tr>\n",
              "      <th>89</th>\n",
              "      <td>They reschedule my shit for tomorrow https://t...</td>\n",
              "      <td>they reschedule my shit for tomorrow https://t...</td>\n",
              "    </tr>\n",
              "    <tr>\n",
              "      <th>90</th>\n",
              "      <td>@105861 Hey Sara, sorry to hear of the issues ...</td>\n",
              "      <td>@105861 hey sara, sorry to hear of the issues ...</td>\n",
              "    </tr>\n",
              "    <tr>\n",
              "      <th>91</th>\n",
              "      <td>@Tesco bit of both - finding the layout cumber...</td>\n",
              "      <td>@tesco bit of both - finding the layout cumber...</td>\n",
              "    </tr>\n",
              "    <tr>\n",
              "      <th>92</th>\n",
              "      <td>@105861 If that doesn't help please DM your fu...</td>\n",
              "      <td>@105861 if that doesn't help please dm your fu...</td>\n",
              "    </tr>\n",
              "  </tbody>\n",
              "</table>\n",
              "<p>93 rows × 2 columns</p>\n",
              "</div>\n",
              "    <div class=\"colab-df-buttons\">\n",
              "\n",
              "  <div class=\"colab-df-container\">\n",
              "    <button class=\"colab-df-convert\" onclick=\"convertToInteractive('df-104120cd-6ecf-46c0-8593-6970f12ad5e1')\"\n",
              "            title=\"Convert this dataframe to an interactive table.\"\n",
              "            style=\"display:none;\">\n",
              "\n",
              "  <svg xmlns=\"http://www.w3.org/2000/svg\" height=\"24px\" viewBox=\"0 -960 960 960\">\n",
              "    <path d=\"M120-120v-720h720v720H120Zm60-500h600v-160H180v160Zm220 220h160v-160H400v160Zm0 220h160v-160H400v160ZM180-400h160v-160H180v160Zm440 0h160v-160H620v160ZM180-180h160v-160H180v160Zm440 0h160v-160H620v160Z\"/>\n",
              "  </svg>\n",
              "    </button>\n",
              "\n",
              "  <style>\n",
              "    .colab-df-container {\n",
              "      display:flex;\n",
              "      gap: 12px;\n",
              "    }\n",
              "\n",
              "    .colab-df-convert {\n",
              "      background-color: #E8F0FE;\n",
              "      border: none;\n",
              "      border-radius: 50%;\n",
              "      cursor: pointer;\n",
              "      display: none;\n",
              "      fill: #1967D2;\n",
              "      height: 32px;\n",
              "      padding: 0 0 0 0;\n",
              "      width: 32px;\n",
              "    }\n",
              "\n",
              "    .colab-df-convert:hover {\n",
              "      background-color: #E2EBFA;\n",
              "      box-shadow: 0px 1px 2px rgba(60, 64, 67, 0.3), 0px 1px 3px 1px rgba(60, 64, 67, 0.15);\n",
              "      fill: #174EA6;\n",
              "    }\n",
              "\n",
              "    .colab-df-buttons div {\n",
              "      margin-bottom: 4px;\n",
              "    }\n",
              "\n",
              "    [theme=dark] .colab-df-convert {\n",
              "      background-color: #3B4455;\n",
              "      fill: #D2E3FC;\n",
              "    }\n",
              "\n",
              "    [theme=dark] .colab-df-convert:hover {\n",
              "      background-color: #434B5C;\n",
              "      box-shadow: 0px 1px 3px 1px rgba(0, 0, 0, 0.15);\n",
              "      filter: drop-shadow(0px 1px 2px rgba(0, 0, 0, 0.3));\n",
              "      fill: #FFFFFF;\n",
              "    }\n",
              "  </style>\n",
              "\n",
              "    <script>\n",
              "      const buttonEl =\n",
              "        document.querySelector('#df-104120cd-6ecf-46c0-8593-6970f12ad5e1 button.colab-df-convert');\n",
              "      buttonEl.style.display =\n",
              "        google.colab.kernel.accessAllowed ? 'block' : 'none';\n",
              "\n",
              "      async function convertToInteractive(key) {\n",
              "        const element = document.querySelector('#df-104120cd-6ecf-46c0-8593-6970f12ad5e1');\n",
              "        const dataTable =\n",
              "          await google.colab.kernel.invokeFunction('convertToInteractive',\n",
              "                                                    [key], {});\n",
              "        if (!dataTable) return;\n",
              "\n",
              "        const docLinkHtml = 'Like what you see? Visit the ' +\n",
              "          '<a target=\"_blank\" href=https://colab.research.google.com/notebooks/data_table.ipynb>data table notebook</a>'\n",
              "          + ' to learn more about interactive tables.';\n",
              "        element.innerHTML = '';\n",
              "        dataTable['output_type'] = 'display_data';\n",
              "        await google.colab.output.renderOutput(dataTable, element);\n",
              "        const docLink = document.createElement('div');\n",
              "        docLink.innerHTML = docLinkHtml;\n",
              "        element.appendChild(docLink);\n",
              "      }\n",
              "    </script>\n",
              "  </div>\n",
              "\n",
              "\n",
              "<div id=\"df-99c7c04b-3332-4769-a2a5-1a5b40ddb9f9\">\n",
              "  <button class=\"colab-df-quickchart\" onclick=\"quickchart('df-99c7c04b-3332-4769-a2a5-1a5b40ddb9f9')\"\n",
              "            title=\"Suggest charts\"\n",
              "            style=\"display:none;\">\n",
              "\n",
              "<svg xmlns=\"http://www.w3.org/2000/svg\" height=\"24px\"viewBox=\"0 0 24 24\"\n",
              "     width=\"24px\">\n",
              "    <g>\n",
              "        <path d=\"M19 3H5c-1.1 0-2 .9-2 2v14c0 1.1.9 2 2 2h14c1.1 0 2-.9 2-2V5c0-1.1-.9-2-2-2zM9 17H7v-7h2v7zm4 0h-2V7h2v10zm4 0h-2v-4h2v4z\"/>\n",
              "    </g>\n",
              "</svg>\n",
              "  </button>\n",
              "\n",
              "<style>\n",
              "  .colab-df-quickchart {\n",
              "      --bg-color: #E8F0FE;\n",
              "      --fill-color: #1967D2;\n",
              "      --hover-bg-color: #E2EBFA;\n",
              "      --hover-fill-color: #174EA6;\n",
              "      --disabled-fill-color: #AAA;\n",
              "      --disabled-bg-color: #DDD;\n",
              "  }\n",
              "\n",
              "  [theme=dark] .colab-df-quickchart {\n",
              "      --bg-color: #3B4455;\n",
              "      --fill-color: #D2E3FC;\n",
              "      --hover-bg-color: #434B5C;\n",
              "      --hover-fill-color: #FFFFFF;\n",
              "      --disabled-bg-color: #3B4455;\n",
              "      --disabled-fill-color: #666;\n",
              "  }\n",
              "\n",
              "  .colab-df-quickchart {\n",
              "    background-color: var(--bg-color);\n",
              "    border: none;\n",
              "    border-radius: 50%;\n",
              "    cursor: pointer;\n",
              "    display: none;\n",
              "    fill: var(--fill-color);\n",
              "    height: 32px;\n",
              "    padding: 0;\n",
              "    width: 32px;\n",
              "  }\n",
              "\n",
              "  .colab-df-quickchart:hover {\n",
              "    background-color: var(--hover-bg-color);\n",
              "    box-shadow: 0 1px 2px rgba(60, 64, 67, 0.3), 0 1px 3px 1px rgba(60, 64, 67, 0.15);\n",
              "    fill: var(--button-hover-fill-color);\n",
              "  }\n",
              "\n",
              "  .colab-df-quickchart-complete:disabled,\n",
              "  .colab-df-quickchart-complete:disabled:hover {\n",
              "    background-color: var(--disabled-bg-color);\n",
              "    fill: var(--disabled-fill-color);\n",
              "    box-shadow: none;\n",
              "  }\n",
              "\n",
              "  .colab-df-spinner {\n",
              "    border: 2px solid var(--fill-color);\n",
              "    border-color: transparent;\n",
              "    border-bottom-color: var(--fill-color);\n",
              "    animation:\n",
              "      spin 1s steps(1) infinite;\n",
              "  }\n",
              "\n",
              "  @keyframes spin {\n",
              "    0% {\n",
              "      border-color: transparent;\n",
              "      border-bottom-color: var(--fill-color);\n",
              "      border-left-color: var(--fill-color);\n",
              "    }\n",
              "    20% {\n",
              "      border-color: transparent;\n",
              "      border-left-color: var(--fill-color);\n",
              "      border-top-color: var(--fill-color);\n",
              "    }\n",
              "    30% {\n",
              "      border-color: transparent;\n",
              "      border-left-color: var(--fill-color);\n",
              "      border-top-color: var(--fill-color);\n",
              "      border-right-color: var(--fill-color);\n",
              "    }\n",
              "    40% {\n",
              "      border-color: transparent;\n",
              "      border-right-color: var(--fill-color);\n",
              "      border-top-color: var(--fill-color);\n",
              "    }\n",
              "    60% {\n",
              "      border-color: transparent;\n",
              "      border-right-color: var(--fill-color);\n",
              "    }\n",
              "    80% {\n",
              "      border-color: transparent;\n",
              "      border-right-color: var(--fill-color);\n",
              "      border-bottom-color: var(--fill-color);\n",
              "    }\n",
              "    90% {\n",
              "      border-color: transparent;\n",
              "      border-bottom-color: var(--fill-color);\n",
              "    }\n",
              "  }\n",
              "</style>\n",
              "\n",
              "  <script>\n",
              "    async function quickchart(key) {\n",
              "      const quickchartButtonEl =\n",
              "        document.querySelector('#' + key + ' button');\n",
              "      quickchartButtonEl.disabled = true;  // To prevent multiple clicks.\n",
              "      quickchartButtonEl.classList.add('colab-df-spinner');\n",
              "      try {\n",
              "        const charts = await google.colab.kernel.invokeFunction(\n",
              "            'suggestCharts', [key], {});\n",
              "      } catch (error) {\n",
              "        console.error('Error during call to suggestCharts:', error);\n",
              "      }\n",
              "      quickchartButtonEl.classList.remove('colab-df-spinner');\n",
              "      quickchartButtonEl.classList.add('colab-df-quickchart-complete');\n",
              "    }\n",
              "    (() => {\n",
              "      let quickchartButtonEl =\n",
              "        document.querySelector('#df-99c7c04b-3332-4769-a2a5-1a5b40ddb9f9 button');\n",
              "      quickchartButtonEl.style.display =\n",
              "        google.colab.kernel.accessAllowed ? 'block' : 'none';\n",
              "    })();\n",
              "  </script>\n",
              "</div>\n",
              "\n",
              "  <div id=\"id_e76a340d-3905-464e-bdcf-b3e82aaf918b\">\n",
              "    <style>\n",
              "      .colab-df-generate {\n",
              "        background-color: #E8F0FE;\n",
              "        border: none;\n",
              "        border-radius: 50%;\n",
              "        cursor: pointer;\n",
              "        display: none;\n",
              "        fill: #1967D2;\n",
              "        height: 32px;\n",
              "        padding: 0 0 0 0;\n",
              "        width: 32px;\n",
              "      }\n",
              "\n",
              "      .colab-df-generate:hover {\n",
              "        background-color: #E2EBFA;\n",
              "        box-shadow: 0px 1px 2px rgba(60, 64, 67, 0.3), 0px 1px 3px 1px rgba(60, 64, 67, 0.15);\n",
              "        fill: #174EA6;\n",
              "      }\n",
              "\n",
              "      [theme=dark] .colab-df-generate {\n",
              "        background-color: #3B4455;\n",
              "        fill: #D2E3FC;\n",
              "      }\n",
              "\n",
              "      [theme=dark] .colab-df-generate:hover {\n",
              "        background-color: #434B5C;\n",
              "        box-shadow: 0px 1px 3px 1px rgba(0, 0, 0, 0.15);\n",
              "        filter: drop-shadow(0px 1px 2px rgba(0, 0, 0, 0.3));\n",
              "        fill: #FFFFFF;\n",
              "      }\n",
              "    </style>\n",
              "    <button class=\"colab-df-generate\" onclick=\"generateWithVariable('df')\"\n",
              "            title=\"Generate code using this dataframe.\"\n",
              "            style=\"display:none;\">\n",
              "\n",
              "  <svg xmlns=\"http://www.w3.org/2000/svg\" height=\"24px\"viewBox=\"0 0 24 24\"\n",
              "       width=\"24px\">\n",
              "    <path d=\"M7,19H8.4L18.45,9,17,7.55,7,17.6ZM5,21V16.75L18.45,3.32a2,2,0,0,1,2.83,0l1.4,1.43a1.91,1.91,0,0,1,.58,1.4,1.91,1.91,0,0,1-.58,1.4L9.25,21ZM18.45,9,17,7.55Zm-12,3A5.31,5.31,0,0,0,4.9,8.1,5.31,5.31,0,0,0,1,6.5,5.31,5.31,0,0,0,4.9,4.9,5.31,5.31,0,0,0,6.5,1,5.31,5.31,0,0,0,8.1,4.9,5.31,5.31,0,0,0,12,6.5,5.46,5.46,0,0,0,6.5,12Z\"/>\n",
              "  </svg>\n",
              "    </button>\n",
              "    <script>\n",
              "      (() => {\n",
              "      const buttonEl =\n",
              "        document.querySelector('#id_e76a340d-3905-464e-bdcf-b3e82aaf918b button.colab-df-generate');\n",
              "      buttonEl.style.display =\n",
              "        google.colab.kernel.accessAllowed ? 'block' : 'none';\n",
              "\n",
              "      buttonEl.onclick = () => {\n",
              "        google.colab.notebook.generateWithVariable('df');\n",
              "      }\n",
              "      })();\n",
              "    </script>\n",
              "  </div>\n",
              "\n",
              "    </div>\n",
              "  </div>\n"
            ],
            "application/vnd.google.colaboratory.intrinsic+json": {
              "type": "dataframe",
              "variable_name": "df",
              "summary": "{\n  \"name\": \"df\",\n  \"rows\": 93,\n  \"fields\": [\n    {\n      \"column\": \"text\",\n      \"properties\": {\n        \"dtype\": \"string\",\n        \"num_unique_values\": 93,\n        \"samples\": [\n          \"So the new @76099 update does not let me listen to music and go on whatsapp at the same time?!?\",\n          \"@76495 @91226 Please help! Spotify Premium skipping through songs constantly on android tablet &amp; bluetooth speaker. Tried everything!\",\n          \"@105850 Once the points load and you hit the number, you get it immediately! You'll even receive a congrats email. Are you almost there? ^AC\"\n        ],\n        \"semantic_type\": \"\",\n        \"description\": \"\"\n      }\n    },\n    {\n      \"column\": \"text_lower\",\n      \"properties\": {\n        \"dtype\": \"string\",\n        \"num_unique_values\": 93,\n        \"samples\": [\n          \"so the new @76099 update does not let me listen to music and go on whatsapp at the same time?!?\",\n          \"@76495 @91226 please help! spotify premium skipping through songs constantly on android tablet &amp; bluetooth speaker. tried everything!\",\n          \"@105850 once the points load and you hit the number, you get it immediately! you'll even receive a congrats email. are you almost there? ^ac\"\n        ],\n        \"semantic_type\": \"\",\n        \"description\": \"\"\n      }\n    }\n  ]\n}"
            }
          },
          "metadata": {},
          "execution_count": 38
        }
      ]
    },
    {
      "cell_type": "code",
      "source": [
        "df.iloc[0]"
      ],
      "metadata": {
        "colab": {
          "base_uri": "https://localhost:8080/",
          "height": 147
        },
        "id": "w_GXqAYjf-9c",
        "outputId": "90d4088b-e951-4d98-8d85-26be59f6f8be"
      },
      "execution_count": null,
      "outputs": [
        {
          "output_type": "execute_result",
          "data": {
            "text/plain": [
              "text          @AppleSupport causing the reply to be disregar...\n",
              "text_lower    @applesupport causing the reply to be disregar...\n",
              "Name: 0, dtype: object"
            ],
            "text/html": [
              "<div>\n",
              "<style scoped>\n",
              "    .dataframe tbody tr th:only-of-type {\n",
              "        vertical-align: middle;\n",
              "    }\n",
              "\n",
              "    .dataframe tbody tr th {\n",
              "        vertical-align: top;\n",
              "    }\n",
              "\n",
              "    .dataframe thead th {\n",
              "        text-align: right;\n",
              "    }\n",
              "</style>\n",
              "<table border=\"1\" class=\"dataframe\">\n",
              "  <thead>\n",
              "    <tr style=\"text-align: right;\">\n",
              "      <th></th>\n",
              "      <th>0</th>\n",
              "    </tr>\n",
              "  </thead>\n",
              "  <tbody>\n",
              "    <tr>\n",
              "      <th>text</th>\n",
              "      <td>@AppleSupport causing the reply to be disregar...</td>\n",
              "    </tr>\n",
              "    <tr>\n",
              "      <th>text_lower</th>\n",
              "      <td>@applesupport causing the reply to be disregar...</td>\n",
              "    </tr>\n",
              "  </tbody>\n",
              "</table>\n",
              "</div><br><label><b>dtype:</b> object</label>"
            ]
          },
          "metadata": {},
          "execution_count": 41
        }
      ]
    },
    {
      "cell_type": "code",
      "source": [
        "df.iloc[0][1]"
      ],
      "metadata": {
        "colab": {
          "base_uri": "https://localhost:8080/",
          "height": 107
        },
        "id": "VNBIjFPWgC4c",
        "outputId": "d4a66de6-90ca-404a-fae5-d13f6957f68d"
      },
      "execution_count": null,
      "outputs": [
        {
          "output_type": "stream",
          "name": "stderr",
          "text": [
            "<ipython-input-45-bce042ebbecd>:1: FutureWarning: Series.__getitem__ treating keys as positions is deprecated. In a future version, integer keys will always be treated as labels (consistent with DataFrame behavior). To access a value by position, use `ser.iloc[pos]`\n",
            "  df.iloc[0][1]\n"
          ]
        },
        {
          "output_type": "execute_result",
          "data": {
            "text/plain": [
              "'@applesupport causing the reply to be disregarded and the tapped notification under the keyboard is opened😡😡😡'"
            ],
            "application/vnd.google.colaboratory.intrinsic+json": {
              "type": "string"
            }
          },
          "metadata": {},
          "execution_count": 45
        }
      ]
    },
    {
      "cell_type": "code",
      "source": [
        "text=df.iloc[0][1]"
      ],
      "metadata": {
        "colab": {
          "base_uri": "https://localhost:8080/"
        },
        "id": "OFf-dnvbgF2E",
        "outputId": "73b017cc-c99f-4315-e53e-ceeaf9ccd671"
      },
      "execution_count": null,
      "outputs": [
        {
          "output_type": "stream",
          "name": "stderr",
          "text": [
            "<ipython-input-46-f42428eca2b7>:1: FutureWarning: Series.__getitem__ treating keys as positions is deprecated. In a future version, integer keys will always be treated as labels (consistent with DataFrame behavior). To access a value by position, use `ser.iloc[pos]`\n",
            "  text=df.iloc[0][1]\n"
          ]
        }
      ]
    },
    {
      "cell_type": "code",
      "source": [
        "tokenized_text = word_tokenize(text)\n",
        "tags = tokens_tag = pos_tag(tokenized_text)\n",
        "tags"
      ],
      "metadata": {
        "colab": {
          "base_uri": "https://localhost:8080/"
        },
        "id": "4282Ik0rgPus",
        "outputId": "8f6bd401-a9a4-4583-d7aa-6be25e1d101a"
      },
      "execution_count": null,
      "outputs": [
        {
          "output_type": "execute_result",
          "data": {
            "text/plain": [
              "[('@', 'JJ'),\n",
              " ('applesupport', 'NN'),\n",
              " ('causing', 'VBG'),\n",
              " ('the', 'DT'),\n",
              " ('reply', 'NN'),\n",
              " ('to', 'TO'),\n",
              " ('be', 'VB'),\n",
              " ('disregarded', 'VBN'),\n",
              " ('and', 'CC'),\n",
              " ('the', 'DT'),\n",
              " ('tapped', 'JJ'),\n",
              " ('notification', 'NN'),\n",
              " ('under', 'IN'),\n",
              " ('the', 'DT'),\n",
              " ('keyboard', 'NN'),\n",
              " ('is', 'VBZ'),\n",
              " ('opened😡😡😡', 'JJ')]"
            ]
          },
          "metadata": {},
          "execution_count": 47
        }
      ]
    },
    {
      "cell_type": "code",
      "source": [
        "print(\"Nouns are\")\n",
        "for i in tags:\n",
        "  if i[1]==\"NN\":\n",
        "    print(i[0])"
      ],
      "metadata": {
        "colab": {
          "base_uri": "https://localhost:8080/"
        },
        "id": "0cT8nmmphMWM",
        "outputId": "4595e3d1-bdb6-45c1-c2b0-be8145b50e84"
      },
      "execution_count": null,
      "outputs": [
        {
          "output_type": "stream",
          "name": "stdout",
          "text": [
            "Nouns are\n",
            "applesupport\n",
            "reply\n",
            "notification\n",
            "keyboard\n"
          ]
        }
      ]
    },
    {
      "cell_type": "code",
      "source": [
        "!sudo python3 -m nltk.downloader bllip_wsj_no_aux\n",
        "!pip3 install bllipparser"
      ],
      "metadata": {
        "colab": {
          "base_uri": "https://localhost:8080/"
        },
        "id": "fxbzMy6cjCCk",
        "outputId": "1d5346c2-4f3a-4475-aaef-787912ee347a"
      },
      "execution_count": null,
      "outputs": [
        {
          "output_type": "stream",
          "name": "stdout",
          "text": [
            "/usr/lib/python3.10/runpy.py:126: RuntimeWarning: 'nltk.downloader' found in sys.modules after import of package 'nltk', but prior to execution of 'nltk.downloader'; this may result in unpredictable behaviour\n",
            "  warn(RuntimeWarning(msg))\n",
            "[nltk_data] Downloading package bllip_wsj_no_aux to /root/nltk_data...\n",
            "[nltk_data]   Unzipping models/bllip_wsj_no_aux.zip.\n",
            "Collecting bllipparser\n",
            "  Downloading bllipparser-2021.11.7.tar.gz (554 kB)\n",
            "\u001b[2K     \u001b[90m━━━━━━━━━━━━━━━━━━━━━━━━━━━━━━━━━━━━━━━━\u001b[0m \u001b[32m554.1/554.1 kB\u001b[0m \u001b[31m25.3 MB/s\u001b[0m eta \u001b[36m0:00:00\u001b[0m\n",
            "\u001b[?25h  Preparing metadata (setup.py) ... \u001b[?25l\u001b[?25hdone\n",
            "Requirement already satisfied: six in /usr/local/lib/python3.10/dist-packages (from bllipparser) (1.17.0)\n",
            "Building wheels for collected packages: bllipparser\n"
          ]
        }
      ]
    },
    {
      "cell_type": "code",
      "source": [
        "from nltk.data import find\n",
        "from bllipparser import RerankingParser\n",
        "\n",
        "model_dir = find('models/bllip_wsj_no_aux').path\n",
        "parser = RerankingParser.from_unified_model_dir(model_dir)\n",
        "\n",
        "best = parser.parse(text)\n",
        "\n",
        "print(best.get_reranker_best())\n",
        "print(best.get_parser_best())"
      ],
      "metadata": {
        "id": "23aGEgPUhrrT",
        "colab": {
          "base_uri": "https://localhost:8080/",
          "height": 383
        },
        "outputId": "aac5adff-5849-4137-b915-e8a60047bc90"
      },
      "execution_count": 50,
      "outputs": [
        {
          "output_type": "error",
          "ename": "ModuleNotFoundError",
          "evalue": "No module named 'bllipparser'",
          "traceback": [
            "\u001b[0;31m---------------------------------------------------------------------------\u001b[0m",
            "\u001b[0;31mModuleNotFoundError\u001b[0m                       Traceback (most recent call last)",
            "\u001b[0;32m<ipython-input-50-8bd39bbcd57b>\u001b[0m in \u001b[0;36m<cell line: 2>\u001b[0;34m()\u001b[0m\n\u001b[1;32m      1\u001b[0m \u001b[0;32mfrom\u001b[0m \u001b[0mnltk\u001b[0m\u001b[0;34m.\u001b[0m\u001b[0mdata\u001b[0m \u001b[0;32mimport\u001b[0m \u001b[0mfind\u001b[0m\u001b[0;34m\u001b[0m\u001b[0;34m\u001b[0m\u001b[0m\n\u001b[0;32m----> 2\u001b[0;31m \u001b[0;32mfrom\u001b[0m \u001b[0mbllipparser\u001b[0m \u001b[0;32mimport\u001b[0m \u001b[0mRerankingParser\u001b[0m\u001b[0;34m\u001b[0m\u001b[0;34m\u001b[0m\u001b[0m\n\u001b[0m\u001b[1;32m      3\u001b[0m \u001b[0;34m\u001b[0m\u001b[0m\n\u001b[1;32m      4\u001b[0m \u001b[0mmodel_dir\u001b[0m \u001b[0;34m=\u001b[0m \u001b[0mfind\u001b[0m\u001b[0;34m(\u001b[0m\u001b[0;34m'models/bllip_wsj_no_aux'\u001b[0m\u001b[0;34m)\u001b[0m\u001b[0;34m.\u001b[0m\u001b[0mpath\u001b[0m\u001b[0;34m\u001b[0m\u001b[0;34m\u001b[0m\u001b[0m\n\u001b[1;32m      5\u001b[0m \u001b[0mparser\u001b[0m \u001b[0;34m=\u001b[0m \u001b[0mRerankingParser\u001b[0m\u001b[0;34m.\u001b[0m\u001b[0mfrom_unified_model_dir\u001b[0m\u001b[0;34m(\u001b[0m\u001b[0mmodel_dir\u001b[0m\u001b[0;34m)\u001b[0m\u001b[0;34m\u001b[0m\u001b[0;34m\u001b[0m\u001b[0m\n",
            "\u001b[0;31mModuleNotFoundError\u001b[0m: No module named 'bllipparser'",
            "",
            "\u001b[0;31m---------------------------------------------------------------------------\u001b[0;32m\nNOTE: If your import is failing due to a missing package, you can\nmanually install dependencies using either !pip or !apt.\n\nTo view examples of installing some common dependencies, click the\n\"Open Examples\" button below.\n\u001b[0;31m---------------------------------------------------------------------------\u001b[0m\n"
          ],
          "errorDetails": {
            "actions": [
              {
                "action": "open_url",
                "actionText": "Open Examples",
                "url": "/notebooks/snippets/importing_libraries.ipynb"
              }
            ]
          }
        }
      ]
    },
    {
      "cell_type": "code",
      "source": [],
      "metadata": {
        "id": "scS79UfPi6fl"
      },
      "execution_count": null,
      "outputs": []
    }
  ]
}