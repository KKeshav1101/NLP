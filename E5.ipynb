{
 "cells": [
  {
   "cell_type": "markdown",
   "id": "8f49365a-7340-4914-834c-28a6165a357f",
   "metadata": {},
   "source": [
    "# CYK Algorithm for PCFG"
   ]
  },
  {
   "cell_type": "code",
   "execution_count": 2,
   "id": "23ab085b-2a70-4e78-8f83-f904fecb5a31",
   "metadata": {},
   "outputs": [],
   "source": [
    "from nltk import PCFG, ViterbiParser, InsideChartParser\n",
    "import numpy as np\n",
    "import pandas as pd"
   ]
  },
  {
   "cell_type": "code",
   "execution_count": 3,
   "id": "86357125-8487-456d-9e9f-48b89a92db37",
   "metadata": {},
   "outputs": [],
   "source": [
    "grammar = PCFG.fromstring(\"\"\"\n",
    "S -> NP VP [1.0]\n",
    "VP -> V NP [0.7] | VP PP [0.3]\n",
    "NP -> Det N [0.5] | NP PP [0.2] | 'John' [0.3]\n",
    "PP -> P NP [1.0]\n",
    "V -> 'saw' [0.2] | 'ate' [0.8]\n",
    "Det -> 'the' [0.6] | 'a' [0.4]\n",
    "N -> 'man' [0.5] | 'telescope' [0.5]\n",
    "P -> 'with' [0.4] | 'in' [0.6]\n",
    "\"\"\")"
   ]
  },
  {
   "cell_type": "code",
   "execution_count": 4,
   "id": "1bcf759a-6203-48da-b34b-2fd4409f9a98",
   "metadata": {},
   "outputs": [
    {
     "data": {
      "text/plain": [
       "(VP,)"
      ]
     },
     "execution_count": 4,
     "metadata": {},
     "output_type": "execute_result"
    }
   ],
   "source": [
    "pcfg = PCFG.fromstring(\"\"\"\n",
    "S -> NP VP [0.9]\n",
    "S -> VP [0.1]\n",
    "VP -> V NP [0.5]\n",
    "VP -> V [0.5]\n",
    "NP -> Det N [0.3]\n",
    "NP -> N [0.7]\n",
    "N -> 'cat' [0.2]\n",
    "N -> 'book' [0.2]\n",
    "N -> 'bird' [0.2]\n",
    "N -> 'dog' [0.4]\n",
    "V -> 'read' [0.1]\n",
    "V -> 'chased' [0.6]\n",
    "V -> 'ate' [0.3]\n",
    "Det -> 'the' [0.5]\n",
    "Det -> 'a' [0.5]\n",
    "\"\"\")\n",
    "pcfg.productions()[1].rhs()"
   ]
  },
  {
   "cell_type": "code",
   "execution_count": 5,
   "id": "9a40d21b-335b-46ca-83f7-ea7dc7f99566",
   "metadata": {},
   "outputs": [],
   "source": [
    "def cyk(pcfg, s):\n",
    "    n = len(s)\n",
    "    table = [[ [] for _ in range(n)] for _ in range(n)]\n",
    "    for i in range(n):\n",
    "        for prod in pcfg.productions(rhs=s[i]):\n",
    "            table[i][i] = [(prod.lhs(), prod.prob())]\n",
    "    for l in range(2, n+1):\n",
    "        for i in range(n-l+1):\n",
    "            j=i+l-1\n",
    "            for k in range(i,j):\n",
    "                for prod in pcfg.productions():\n",
    "                    for left, left_p in table[i][k]:\n",
    "                        for right, right_p in table[k+1][j]:\n",
    "                            if prod.rhs() == (left, right):\n",
    "                                prob = left_p * right_p * prod.prob()\n",
    "                                table[i][j].append((prod.lhs(),prob))\n",
    "                                    \n",
    "\n",
    "    if pcfg.start() in [lhs for lhs, prob in table[0][n-1]]:\n",
    "        for lhs, prob in table[0][n-1]:\n",
    "            if lhs == pcfg.start():\n",
    "                return prob\n",
    "    return 0.0"
   ]
  },
  {
   "cell_type": "code",
   "execution_count": 6,
   "id": "388a8a1c-c15b-4727-8cc0-3862a481686b",
   "metadata": {},
   "outputs": [],
   "source": [
    "sent = [\n",
    "\"the cat chased the dog\",\n",
    "\"the dog chased the cat\",\n",
    "\"the dog chased the bird\",\n",
    "\"Book read\"\n",
    "]"
   ]
  },
  {
   "cell_type": "code",
   "execution_count": 7,
   "id": "6209bb1e-4cfd-43cc-a388-3734a6549fa8",
   "metadata": {},
   "outputs": [
    {
     "name": "stdout",
     "output_type": "stream",
     "text": [
      "The sentence the cat chased the dog is grammatically correct. Prob = 0.00048599999999999994\n",
      "The sentence the dog chased the cat is grammatically correct. Prob = 0.00048599999999999994\n",
      "The sentence the dog chased the bird is grammatically correct. Prob = 0.00048599999999999994\n",
      "The sentence Book read is grammatically incorrect\n"
     ]
    }
   ],
   "source": [
    "for s in sent:\n",
    "    prob = cyk(pcfg, s.lower().split())\n",
    "    if prob>0:\n",
    "        print(f\"The sentence {s} is grammatically correct. Prob = {prob}\")\n",
    "    else:\n",
    "        print(f\"The sentence {s} is grammatically incorrect\")"
   ]
  },
  {
   "cell_type": "code",
   "execution_count": 10,
   "id": "6dc5e30b-f399-4b4f-abe7-5dd333a73943",
   "metadata": {},
   "outputs": [
    {
     "name": "stdout",
     "output_type": "stream",
     "text": [
      "PARSE TREES FOR SENTENCES BELONGING TO THE GRAMMAR\n",
      "Probability of 'the cat chased the dog':0.00048599999999999994\n",
      "              S               \n",
      "      ________|_____           \n",
      "     |              VP        \n",
      "     |         _____|___       \n",
      "     NP       |         NP    \n",
      "  ___|___     |      ___|___   \n",
      "Det      N    V    Det      N \n",
      " |       |    |     |       |  \n",
      "the     cat chased the     dog\n",
      "\n",
      "Probability of 'the dog chased the cat':0.00048599999999999994\n",
      "              S               \n",
      "      ________|_____           \n",
      "     |              VP        \n",
      "     |         _____|___       \n",
      "     NP       |         NP    \n",
      "  ___|___     |      ___|___   \n",
      "Det      N    V    Det      N \n",
      " |       |    |     |       |  \n",
      "the     dog chased the     cat\n",
      "\n",
      "Probability of 'the dog chased the bird':0.00048599999999999994\n",
      "              S                \n",
      "      ________|_____            \n",
      "     |              VP         \n",
      "     |         _____|___        \n",
      "     NP       |         NP     \n",
      "  ___|___     |      ___|___    \n",
      "Det      N    V    Det      N  \n",
      " |       |    |     |       |   \n",
      "the     dog chased the     bird\n",
      "\n",
      "'Book read': grammatically incorrect\n"
     ]
    }
   ],
   "source": [
    "print('''PARSE TREES FOR SENTENCES BELONGING TO THE GRAMMAR''')\n",
    "parser = InsideChartParser(pcfg)\n",
    "for s in sent:\n",
    "    if cyk(pcfg,s.lower().split())>0:\n",
    "        print(f\"Probability of '{s}':{cyk(pcfg,s.lower().split())}\")\n",
    "        for tree in parser.parse(s.split()):\n",
    "            tree.pretty_print()\n",
    "    else:\n",
    "        print(f\"'{s}': grammatically incorrect\")"
   ]
  },
  {
   "cell_type": "code",
   "execution_count": null,
   "id": "92c77129-909e-483a-b3c4-374a33d7ba6f",
   "metadata": {},
   "outputs": [],
   "source": []
  }
 ],
 "metadata": {
  "kernelspec": {
   "display_name": "Python 3 (ipykernel)",
   "language": "python",
   "name": "python3"
  },
  "language_info": {
   "codemirror_mode": {
    "name": "ipython",
    "version": 3
   },
   "file_extension": ".py",
   "mimetype": "text/x-python",
   "name": "python",
   "nbconvert_exporter": "python",
   "pygments_lexer": "ipython3",
   "version": "3.12.4"
  }
 },
 "nbformat": 4,
 "nbformat_minor": 5
}
