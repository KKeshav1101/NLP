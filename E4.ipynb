{
 "cells": [
  {
   "cell_type": "markdown",
   "id": "2904e219-770f-4439-b530-dbe8fd470b23",
   "metadata": {},
   "source": [
    "# HMM Trellis and Viterbi"
   ]
  },
  {
   "cell_type": "code",
   "execution_count": 23,
   "id": "a7ac1a1f-96e9-4d74-9c46-6d461c3a7a0b",
   "metadata": {},
   "outputs": [],
   "source": [
    "n = 2\n",
    "states = {0: 'cp', 1: 'ip'}\n",
    "trans = [[0.7, 0.3], [0.5, 0.5]]\n",
    "out_seq = 'lem ice-t cola'\n",
    "emit = [[0.6, 0.1, 0.3], [0.1, 0.7, 0.2]]\n",
    "opt = {'cola': 0, 'ice-t': 1, 'lem': 2}"
   ]
  },
  {
   "cell_type": "code",
   "execution_count": 24,
   "id": "13b50350-83e7-44fc-b8c2-db21775efa79",
   "metadata": {},
   "outputs": [],
   "source": [
    "def fw(n, out, trans, emit, alpha):\n",
    "    alp = []\n",
    "    lists = []\n",
    "    for i in range(n):\n",
    "        for j in range(n):\n",
    "            val = alpha[j]*emit[j][opt[out]]*trans[j][i]\n",
    "            lists.append(val)\n",
    "        else:\n",
    "            alp.append(lists[0]+lists[1])\n",
    "            lists = []\n",
    "    return alp"
   ]
  },
  {
   "cell_type": "code",
   "execution_count": 25,
   "id": "94980ac7-409a-4b0c-8d7a-0614b3d551b4",
   "metadata": {},
   "outputs": [],
   "source": [
    "def bw(n, out, trans, emit, beta):\n",
    "    bet = []\n",
    "    lists = []\n",
    "    for i in range(n):\n",
    "        for j in range(n):\n",
    "            val = beta[j]*emit[i][opt[out]]*trans[i][j]\n",
    "            lists.append(val)\n",
    "        else:\n",
    "            bet.append(lists[0]+lists[1])\n",
    "            lists = []\n",
    "    return bet"
   ]
  },
  {
   "cell_type": "code",
   "execution_count": 26,
   "id": "7f56472a-d9d1-4792-a751-98bb41ae3837",
   "metadata": {},
   "outputs": [],
   "source": [
    "alpha = [[1.0, 0.0]]\n",
    "beta = [[1.0, 1.0]]"
   ]
  },
  {
   "cell_type": "code",
   "execution_count": 27,
   "id": "0c85dfb3-868d-452c-bda1-e8fd88fe452a",
   "metadata": {},
   "outputs": [
    {
     "data": {
      "text/plain": [
       "[[1.0, 0.0], [0.21, 0.09], [0.0462, 0.0378], [0.021293999999999997, 0.010206]]"
      ]
     },
     "execution_count": 27,
     "metadata": {},
     "output_type": "execute_result"
    }
   ],
   "source": [
    "c = 0\n",
    "out_seq = out_seq.split()\n",
    "for i in out_seq:\n",
    "    new = fw(n, i, trans, emit, alpha[c])\n",
    "    alpha.append(new)\n",
    "    c+=1\n",
    "alpha"
   ]
  },
  {
   "cell_type": "code",
   "execution_count": 28,
   "id": "b9424c72-6f66-4de5-bf21-a589d7d72f8f",
   "metadata": {},
   "outputs": [
    {
     "data": {
      "text/plain": [
       "[[0.0315, 0.029], [0.045, 0.245], [0.6, 0.1], [1.0, 1.0]]"
      ]
     },
     "execution_count": 28,
     "metadata": {},
     "output_type": "execute_result"
    }
   ],
   "source": [
    "rev_out = out_seq[::-1]\n",
    "c=0\n",
    "for i in rev_out:\n",
    "    new = bw(n,i,trans, emit, beta[c])\n",
    "    beta.append(new)\n",
    "    c+=1\n",
    "beta=beta[::-1]\n",
    "beta"
   ]
  },
  {
   "cell_type": "code",
   "execution_count": 29,
   "id": "5a17d951-5895-470c-a80a-af2ae7a10a24",
   "metadata": {},
   "outputs": [
    {
     "data": {
      "text/plain": [
       "[0.0315, 0.0315, 0.0315, 0.0315]"
      ]
     },
     "execution_count": 29,
     "metadata": {},
     "output_type": "execute_result"
    }
   ],
   "source": [
    "gamma = []\n",
    "tot = []\n",
    "for i in range(len(out_seq)+1):\n",
    "    total=0\n",
    "    for j in range(n):\n",
    "        total+=(alpha[i][j]*beta[i][j])\n",
    "    tot.append(total)\n",
    "\n",
    "tot"
   ]
  },
  {
   "cell_type": "code",
   "execution_count": 30,
   "id": "740af108-b8e2-4d7d-a6ae-62238d159a32",
   "metadata": {},
   "outputs": [
    {
     "data": {
      "text/plain": [
       "[0, 1, 0, 0]"
      ]
     },
     "execution_count": 30,
     "metadata": {},
     "output_type": "execute_result"
    }
   ],
   "source": [
    "for i in range(len(out_seq)+1):\n",
    "    maxx = -1\n",
    "    for j in range(n):\n",
    "        val = alpha[i][j]*beta[i][j]/tot[i]\n",
    "        if maxx<val:\n",
    "            maxx=val\n",
    "            ind=j\n",
    "    else:\n",
    "        gamma.append(ind)\n",
    "gamma"
   ]
  },
  {
   "cell_type": "code",
   "execution_count": 31,
   "id": "5338c20a-88db-499e-9d4c-e2356ce50b22",
   "metadata": {},
   "outputs": [],
   "source": [
    "disp = [states[i] for i in gamma]"
   ]
  },
  {
   "cell_type": "code",
   "execution_count": 32,
   "id": "bd6dda9e-4ec8-4f97-8169-596357f70f87",
   "metadata": {},
   "outputs": [
    {
     "data": {
      "text/plain": [
       "['cp', 'ip', 'cp', 'cp']"
      ]
     },
     "execution_count": 32,
     "metadata": {},
     "output_type": "execute_result"
    }
   ],
   "source": [
    "disp"
   ]
  },
  {
   "cell_type": "code",
   "execution_count": 38,
   "id": "af47a35c-a004-40af-b40b-3e9133914014",
   "metadata": {},
   "outputs": [],
   "source": [
    "def viterbi(n, out, trans, emit, alpha):\n",
    "    alp = []\n",
    "    lists = []\n",
    "    for i in range(n):\n",
    "        for j in range(n):\n",
    "            val=alpha[j]*trans[j][i]*emit[j][opt[out]]\n",
    "            lists.append(val)\n",
    "        else:\n",
    "            maxx = lists[0] if lists[0]>lists[1] else lists[1]\n",
    "            ind = 0 if maxx==lists[0] else 1\n",
    "            lists=[]\n",
    "        alp.append(maxx)\n",
    "    return [alp,ind]"
   ]
  },
  {
   "cell_type": "code",
   "execution_count": 39,
   "id": "ea0f99e2-a65a-4be3-9c33-a1bc9fd505c2",
   "metadata": {},
   "outputs": [
    {
     "name": "stdout",
     "output_type": "stream",
     "text": [
      "[[1.0, 0.0], [0.21, 0.09], [0.0315, 0.0315], [0.01323, 0.00567]] [0, 1, 0, 0]\n"
     ]
    }
   ],
   "source": [
    "alpha = [[1.0,0.0]]\n",
    "c=0\n",
    "bs=[]\n",
    "for i in out_seq:\n",
    "    new = viterbi(n,i,trans,emit,alpha[c])\n",
    "    alpha.append(new[0])\n",
    "    bs.append(new[1])\n",
    "    c+=1\n",
    "if alpha[-1][0]>alpha[-1][1]:\n",
    "    bs.append(0)\n",
    "else:\n",
    "    bs.append(1)\n",
    "print(alpha, bs)"
   ]
  },
  {
   "cell_type": "code",
   "execution_count": 40,
   "id": "a7082b2e-2cf3-4758-885d-88e48faf7b01",
   "metadata": {},
   "outputs": [
    {
     "data": {
      "text/plain": [
       "['cp', 'ip', 'cp', 'cp']"
      ]
     },
     "execution_count": 40,
     "metadata": {},
     "output_type": "execute_result"
    }
   ],
   "source": [
    "disp = [states[i] for i in bs]\n",
    "disp"
   ]
  }
 ],
 "metadata": {
  "kernelspec": {
   "display_name": "Python 3 (ipykernel)",
   "language": "python",
   "name": "python3"
  },
  "language_info": {
   "codemirror_mode": {
    "name": "ipython",
    "version": 3
   },
   "file_extension": ".py",
   "mimetype": "text/x-python",
   "name": "python",
   "nbconvert_exporter": "python",
   "pygments_lexer": "ipython3",
   "version": "3.12.4"
  }
 },
 "nbformat": 4,
 "nbformat_minor": 5
}
