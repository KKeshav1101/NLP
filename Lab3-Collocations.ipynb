{
 "cells": [
  {
   "cell_type": "markdown",
   "id": "713e19bb-2a10-4762-b0e7-e0efeb5f2acb",
   "metadata": {},
   "source": [
    "# Collocations - Exp 2 - 126003131 K Keshav"
   ]
  },
  {
   "cell_type": "markdown",
   "id": "2a742ef5-c69a-4068-8fa4-7260ebf7490d",
   "metadata": {},
   "source": [
    "<strong>4 ways of identifying collocations</strong>\n",
    "-    1. Frequency Based <br>\n",
    "-    2. Mean and variance (freq and distance based) <br>\n",
    "-    3. Hypothesis testing (t-test and chi squared) <br>\n",
    "-    4. Mutual Information (not included here)"
   ]
  },
  {
   "cell_type": "markdown",
   "id": "32a0f225-dcf6-4458-a723-ee82777ac376",
   "metadata": {},
   "source": [
    "## Import Necessary Libraries and Datasets\n"
   ]
  },
  {
   "cell_type": "code",
   "execution_count": 53,
   "id": "53b8342b-23e4-4f24-b3b5-96041fee6fbf",
   "metadata": {},
   "outputs": [],
   "source": [
    "import nltk\n",
    "import pandas as pd\n",
    "import numpy as np\n",
    "from nltk.corpus import stopwords, reuters\n",
    "from math import sqrt\n",
    "from scipy.stats import t,chi2\n",
    "import string\n",
    "from nltk import bigrams,word_tokenize\n",
    "from nltk.probability import FreqDist"
   ]
  },
  {
   "cell_type": "code",
   "execution_count": 54,
   "id": "ddf319c7-e5af-4b1d-81fd-4116235f1afa",
   "metadata": {},
   "outputs": [
    {
     "name": "stderr",
     "output_type": "stream",
     "text": [
      "[nltk_data] Downloading package reuters to\n",
      "[nltk_data]     C:\\Users\\Admin\\AppData\\Roaming\\nltk_data...\n",
      "[nltk_data]   Package reuters is already up-to-date!\n",
      "[nltk_data] Downloading package punkt to\n",
      "[nltk_data]     C:\\Users\\Admin\\AppData\\Roaming\\nltk_data...\n",
      "[nltk_data]   Package punkt is already up-to-date!\n"
     ]
    },
    {
     "data": {
      "text/plain": [
       "True"
      ]
     },
     "execution_count": 54,
     "metadata": {},
     "output_type": "execute_result"
    }
   ],
   "source": [
    "nltk.download('reuters')\n",
    "nltk.download('punkt')"
   ]
  },
  {
   "cell_type": "code",
   "execution_count": 17,
   "id": "2ca99a43-8e0e-4f67-8c78-27fd8e17e8af",
   "metadata": {},
   "outputs": [],
   "source": [
    "def remove_punctuation(string):\n",
    "    '''\n",
    "        function to remove punctuations from string for cleaner text\n",
    "    '''\n",
    "    result=''.join(filter(lambda x:x.isalpha() or x.isspace(), string))\n",
    "    return result"
   ]
  },
  {
   "cell_type": "code",
   "execution_count": 18,
   "id": "6e206607-f452-4ba3-ae4e-55e6a8ff9c9d",
   "metadata": {},
   "outputs": [],
   "source": [
    "df = pd.read_csv('unstructured.csv')"
   ]
  },
  {
   "cell_type": "code",
   "execution_count": 23,
   "id": "cc14a5b2-5c0c-42c5-94bc-bcf5ce8a2256",
   "metadata": {},
   "outputs": [],
   "source": [
    "tweets = []\n",
    "for i in df['text']:\n",
    "    tweets.append(remove_punctuation(str(i)).lstrip())"
   ]
  },
  {
   "cell_type": "code",
   "execution_count": 24,
   "id": "f7771382-c9a0-41dc-92c2-2747f3fb6843",
   "metadata": {},
   "outputs": [
    {
     "data": {
      "text/plain": [
       "['AppleSupport causing the reply to be disregarded and the tapped notification under the keyboard is opened',\n",
       " 'Your business means a lot to us Please DM your name zip code and additional details about your concern RR httpstcoznUuVJnr',\n",
       " 'I really hope you all change but Im sure you wont Because you dont have to',\n",
       " 'LiveChat is online at the moment  httpstcoSYVtUKq or contact    option    Leave a message to request a call back',\n",
       " 'VirginTrains see attached error message Ive tried leaving a voicemail several times in the past week httpstcoNxVZjlYxk']"
      ]
     },
     "execution_count": 24,
     "metadata": {},
     "output_type": "execute_result"
    }
   ],
   "source": [
    "tweets[:5]"
   ]
  },
  {
   "cell_type": "markdown",
   "id": "f08d338e-13dc-4db4-9a81-3434d73f39a3",
   "metadata": {},
   "source": [
    "## 1. Frequency Based Approach"
   ]
  },
  {
   "cell_type": "code",
   "execution_count": 25,
   "id": "15696070-bdea-4516-94c0-605abfa021ac",
   "metadata": {},
   "outputs": [],
   "source": [
    "tokens=word_tokenize('.'.join(tweets).lower()) # combine the tweets and tokenize "
   ]
  },
  {
   "cell_type": "code",
   "execution_count": 26,
   "id": "93e4d5f7-a0be-4d80-9c69-87206529dd58",
   "metadata": {},
   "outputs": [],
   "source": [
    "#generate bigrams\n",
    "bigrams_list=list(bigrams(tokens))\n",
    "\n",
    "#calculate frequency distribution for bigrams\n",
    "bigram_freq = FreqDist(bigrams_list)"
   ]
  },
  {
   "cell_type": "code",
   "execution_count": 35,
   "id": "b0c1de3e-b471-4914-8c8b-6c0b46070d91",
   "metadata": {},
   "outputs": [
    {
     "data": {
      "text/plain": [
       "FreqDist({('we', 'can'): 9, ('to', 'help'): 8, ('are', 'you'): 6, ('us', 'a'): 6, ('a', 'dm'): 6, ('please', 'dm'): 5, ('happy', 'to'): 5, ('so', 'we'): 5, ('look', 'into'): 5, ('into', 'this'): 5, ...})"
      ]
     },
     "execution_count": 35,
     "metadata": {},
     "output_type": "execute_result"
    }
   ],
   "source": [
    "bigram_freq"
   ]
  },
  {
   "cell_type": "code",
   "execution_count": 36,
   "id": "6d06e3cc-ef69-4597-9490-ada25604bd3b",
   "metadata": {},
   "outputs": [
    {
     "data": {
      "text/plain": [
       "9"
      ]
     },
     "execution_count": 36,
     "metadata": {},
     "output_type": "execute_result"
    }
   ],
   "source": [
    "target_bigram=(\"we\",\"can\")\n",
    "frequency=bigram_freq[target_bigram]\n",
    "frequency"
   ]
  },
  {
   "cell_type": "markdown",
   "id": "720e8dc2-d91b-40b5-a8c3-6e047e4966a1",
   "metadata": {},
   "source": [
    "## 2.a. Mean and Variance of Frequencies"
   ]
  },
  {
   "cell_type": "code",
   "execution_count": 39,
   "id": "623d47a5-7edc-49a1-8cc8-f9d0c72c3b22",
   "metadata": {},
   "outputs": [],
   "source": [
    "frequencies=list(bigram_freq.values()) #get list of freq values"
   ]
  },
  {
   "cell_type": "code",
   "execution_count": 41,
   "id": "a39892a3-1935-46bf-91b5-060cb7e1278d",
   "metadata": {},
   "outputs": [],
   "source": [
    "# calculate mean and variance\n",
    "mean = np.mean(frequencies)\n",
    "variance = np.var(frequencies)"
   ]
  },
  {
   "cell_type": "code",
   "execution_count": 42,
   "id": "b8b8fb08-5fbd-44d3-9822-206942f0fcb6",
   "metadata": {},
   "outputs": [
    {
     "data": {
      "text/plain": [
       "(1.1705801104972375, 0.4204880612618663)"
      ]
     },
     "execution_count": 42,
     "metadata": {},
     "output_type": "execute_result"
    }
   ],
   "source": [
    "mean, variance"
   ]
  },
  {
   "cell_type": "markdown",
   "id": "b52571f9-e392-4b14-b3ca-712c5dd393d7",
   "metadata": {},
   "source": [
    "## 2.b. Mean and Variance of distances"
   ]
  },
  {
   "cell_type": "code",
   "execution_count": 44,
   "id": "c71200cd-2db7-4efe-8e29-6b71a607026f",
   "metadata": {},
   "outputs": [],
   "source": [
    "def calculate_distance(sentence, word1, word2):\n",
    "    tokens = nltk.word_tokenize(sentence.lower())\n",
    "    try:\n",
    "        index1=tokens.index(word1)\n",
    "        index2=tokens.index(word2)\n",
    "        return abs(index1-index2)\n",
    "    except ValueError:\n",
    "        return"
   ]
  },
  {
   "cell_type": "code",
   "execution_count": 46,
   "id": "4e1c4549-bb63-47a1-a23a-584952ff3b5f",
   "metadata": {},
   "outputs": [],
   "source": [
    "distances=[]\n",
    "for tweet in tweets:\n",
    "    distance=calculate_distance(tweet,\"happy\",\"to\")\n",
    "    if distance is not None:\n",
    "        distances.append(distance)"
   ]
  },
  {
   "cell_type": "code",
   "execution_count": 48,
   "id": "104805c2-5963-43d8-9959-17cf3a8a8ea1",
   "metadata": {},
   "outputs": [
    {
     "data": {
      "text/plain": [
       "(3.4, 3.8400000000000007)"
      ]
     },
     "execution_count": 48,
     "metadata": {},
     "output_type": "execute_result"
    }
   ],
   "source": [
    "# compute mean distance and variance\n",
    "mean_distance=np.mean(distances)\n",
    "variance_distance=np.var(distances)\n",
    "mean_distance,variance_distance"
   ]
  },
  {
   "cell_type": "markdown",
   "id": "86b42d4b-3e97-4202-9cd7-222ccc923fcd",
   "metadata": {},
   "source": [
    ">Explanation of Results:<br>\n",
    " The mean distance between \"knocked\" and \"door\" is 3.5, meaning, on average, the\r\n",
    "words \"knocked\" and \"door\" appear with a distance of 3.5 words apart  n the\r\n",
    "sentence\r\n",
    " The variance of 0.25 indicates that the distances are relatively consistent with small\r\n",
    "variation (some sentences have a distance of 3, other<br>s 4)."
   ]
  },
  {
   "cell_type": "markdown",
   "id": "17d369da-762f-4191-a05d-f02752f8abd3",
   "metadata": {},
   "source": [
    "## Collocation and Distribution"
   ]
  },
  {
   "cell_type": "code",
   "execution_count": 49,
   "id": "3c8a8f2d-eb44-4f09-8481-a05644f746ee",
   "metadata": {},
   "outputs": [
    {
     "data": {
      "image/png": "[encoded data removed]",
      "text/plain": [
       "<Figure size 640x480 with 1 Axes>"
      ]
     },
     "metadata": {},
     "output_type": "display_data"
    }
   ],
   "source": [
    "import matplotlib.pyplot as plt\n",
    "from collections import Counter\n",
    "distance_counts=Counter(distances)\n",
    "plt.bar(distance_counts.keys(),distance_counts.values(),color='skyblue')\n",
    "plt.xlabel(\"Position of 'happy' relative to collocate\")\n",
    "plt.ylabel(\"Frequency of distances\")\n",
    "plt.title(f\"Mean={mean_distance:.2f}, Variance={variance_distance:.2f}\")\n",
    "plt.show()"
   ]
  },
  {
   "cell_type": "markdown",
   "id": "ff8a41a1-0a74-435d-950a-0d40ec13f8cc",
   "metadata": {},
   "source": [
    "> Variance is pretty high so even if frequency wise its the best, it isnt a strong collocation"
   ]
  },
  {
   "cell_type": "markdown",
   "id": "dcdacad1-c64a-47f9-9855-c53b0b371937",
   "metadata": {},
   "source": [
    "## 3.a. Hypothesis Testing - Chi Squared Test"
   ]
  },
  {
   "cell_type": "code",
   "execution_count": 55,
   "id": "c4cedcce-1f47-4b47-8098-324ca6bfd260",
   "metadata": {},
   "outputs": [],
   "source": [
    "corpus = reuters.raw(categories='crude') #load the reuters corpus\n",
    "tokens=nltk.word_tokenize(corpus.lower())\n",
    "bigrams_list=list(bigrams(tokens))\n",
    "bigrams_freq=Counter(bigrams_list)\n",
    "word_freq=Counter(tokens)"
   ]
  },
  {
   "cell_type": "code",
   "execution_count": 56,
   "id": "33b8318e-b3ef-4abf-8ce9-2492bbdba36b",
   "metadata": {},
   "outputs": [],
   "source": [
    "N_tokens=len(tokens)\n",
    "N_bigrams=len(bigrams_list)\n",
    "bigram_to_test=('oil','prices')\n",
    "observed_frequency=bigram_freq[bigram_to_test]"
   ]
  },
  {
   "cell_type": "code",
   "execution_count": 57,
   "id": "18186c24-401a-4fc9-948a-f767d9271c4b",
   "metadata": {},
   "outputs": [],
   "source": [
    "w1,w2=bigram_to_test\n",
    "freq_w1=word_freq[w1]\n",
    "freq_w2=word_freq[w2]"
   ]
  },
  {
   "cell_type": "code",
   "execution_count": 59,
   "id": "df5a22e3-8cbe-469c-a6da-31469d9acf94",
   "metadata": {},
   "outputs": [],
   "source": [
    "# Contingency Table Calculation\n",
    "# Contingency table entries:\n",
    "# O11: Observed frequency of (w1, w2)\n",
    "# O12: Observed frequency of (w1, not w2)\n",
    "# O21: Observed frequency of (not w1, w2)\n",
    "# O22: Observed frequency of (not w1, not w2)\n",
    "\n",
    "# Calc total no.of time w1 appears and w2 appears\n",
    "O11=observed_frequency\n",
    "O12=freq_w1 - O11 # w1 without w2\n",
    "O21=freq_w2 - O11 # w2 without w1\n",
    "O22=N_tokens - (O11+O12+O21) #remaining"
   ]
  },
  {
   "cell_type": "code",
   "execution_count": 60,
   "id": "6be121cb-088c-470f-9d1c-7343f202c6e6",
   "metadata": {},
   "outputs": [],
   "source": [
    "# Expected frequency calculation under independence assumption\n",
    "E11 = (freq_w1 * freq_w2) / N_tokens\n",
    "E12 = (freq_w1 * (N_tokens - freq_w2)) / N_tokens\n",
    "E21 = ((N_tokens - freq_w1) * freq_w2) / N_tokens\n",
    "E22 = ((N_tokens - freq_w1) * (N_tokens - freq_w2)) / N_tokens"
   ]
  },
  {
   "cell_type": "code",
   "execution_count": 65,
   "id": "e563be1d-297a-4c87-9809-bb35255ba2f7",
   "metadata": {},
   "outputs": [],
   "source": [
    "# Chi-square statistic calculation\n",
    "chi_sq_stat = ((O11 - E11) ** 2 / E11) \\\n",
    "            + ((O12 - E12) ** 2 / E12) \\\n",
    "            + ((O21 - E21) ** 2 / E21) \\\n",
    "            + ((O22 - E22) ** 2 / E22) "
   ]
  },
  {
   "cell_type": "code",
   "execution_count": 67,
   "id": "bee56e50-556a-4405-a0b9-f5e4d8bd3e20",
   "metadata": {},
   "outputs": [],
   "source": [
    "df=1 #set degrees of freedom"
   ]
  },
  {
   "cell_type": "code",
   "execution_count": 70,
   "id": "e2cbb617-4526-43d0-a63d-761fb4312a5e",
   "metadata": {},
   "outputs": [],
   "source": [
    "alpha = 0.05\n",
    "chi_sq_critical=chi2.ppf(1-alpha,df)"
   ]
  },
  {
   "cell_type": "code",
   "execution_count": 71,
   "id": "dafd64d9-8087-4e8e-be16-bd981f43de40",
   "metadata": {},
   "outputs": [
    {
     "name": "stdout",
     "output_type": "stream",
     "text": [
      "Bigram: ('oil', 'prices')\n",
      "Observed Frequency (O11): 0\n",
      "Observed Frequency (O12): 2214\n",
      "Observed Frequency (O21): 578\n",
      "Observed Frequency (O22): 130749\n",
      "Expected Frequency (E11): 9.5828\n",
      "Expected Frequency (E12): 2204.4172\n",
      "Expected Frequency (E21): 568.4172\n",
      "Expected Frequency (E22): 130758.5828\n",
      "Chi-Square Statistic: 9.7867\n",
      "Critical Value: 3.8415\n",
      "Significance Level (α): 0.05\n"
     ]
    }
   ],
   "source": [
    "# Output results\n",
    "print(f\"Bigram: {bigram_to_test}\")\n",
    "print(f\"Observed Frequency (O11): {O11}\")\n",
    "print(f\"Observed Frequency (O12): {O12}\")\n",
    "print(f\"Observed Frequency (O21): {O21}\")\n",
    "print(f\"Observed Frequency (O22): {O22}\")\n",
    "print(f\"Expected Frequency (E11): {E11:.4f}\")\n",
    "print(f\"Expected Frequency (E12): {E12:.4f}\")\n",
    "print(f\"Expected Frequency (E21): {E21:.4f}\")\n",
    "print(f\"Expected Frequency (E22): {E22:.4f}\")\n",
    "print(f\"Chi-Square Statistic: {chi_sq_stat:.4f}\")\n",
    "print(f\"Critical Value: {chi_sq_critical:.4f}\")\n",
    "print(f\"Significance Level (α): {alpha}\")"
   ]
  },
  {
   "cell_type": "code",
   "execution_count": 72,
   "id": "efb44781-7dc1-44d4-bfa4-e54db7d81df2",
   "metadata": {},
   "outputs": [
    {
     "name": "stdout",
     "output_type": "stream",
     "text": [
      "Result: Reject the null hypothesis. The bigram is likely a meaningful collocation.\n"
     ]
    }
   ],
   "source": [
    "# Hypothesis Testing\n",
    "if chi_sq_stat > chi_sq_critical:\n",
    "    print(\"Result: Reject the null hypothesis. The bigram is likely a meaningful collocation.\")\n",
    "else:\n",
    "    print(\"Result: Fail to reject the null hypothesis. The bigram is not a meaningful collocation.\")"
   ]
  },
  {
   "cell_type": "markdown",
   "id": "04436aa0-27d2-4431-a304-175ed94451b5",
   "metadata": {},
   "source": [
    "## 3.b. Hypothesis Testing - t test"
   ]
  },
  {
   "cell_type": "code",
   "execution_count": 73,
   "id": "9f16f375-e3b2-4340-b730-31aaa6cb44bb",
   "metadata": {},
   "outputs": [
    {
     "name": "stdout",
     "output_type": "stream",
     "text": [
      "Reject the null hypothesis: The bigram ('oil', 'prices') is a significant collocaion.\n",
      "Observed Frequency: 0\n",
      "Expected Frequency: 9.5827\n",
      "T-Statistic: -3.0956\n",
      "Critical Value (two-tailed): 1.9600\n"
     ]
    }
   ],
   "source": [
    "#compute expected frequency under independence\n",
    "w1, w2 = bigram_to_test\n",
    "P_w1=word_freq[w1]/N_tokens #P(w1)\n",
    "P_w2=word_freq[w2]/N_tokens #P(w2)\n",
    "expected_frequency=P_w1*P_w2*N_bigrams\n",
    "\n",
    "#check if expected[frequency] is 0 or small\n",
    "if expected_frequency<=0:\n",
    "    print(f\"Expected frequency is too small or zero for the bigram {bigram_to_test}.\")\n",
    "else:\n",
    "    #calculate std\n",
    "    std_dev=sqrt(expected_frequency)\n",
    "    #compute the t-stat\n",
    "    t_stat=(observed_frequency-expected_frequency)/std_dev\n",
    "\n",
    "    #degrees of freedom\n",
    "    df=N_bigrams-1\n",
    "\n",
    "    alpha=0.05\n",
    "\n",
    "    critical_value=t.ppf(1-(alpha/2),df)\n",
    "\n",
    "    #determine if the null hypo is rejected\n",
    "    if abs(t_stat)>critical_value:\n",
    "        print(f\"Reject the null hypothesis: The bigram {bigram_to_test} is a significant collocaion.\")\n",
    "    else:\n",
    "        print(f\"Fail to reject the null hypothesis: The bigram {bigram_to_test} ain't significant.\")\n",
    "    print(f\"Observed Frequency: {observed_frequency}\")\n",
    "    print(f\"Expected Frequency: {expected_frequency:.4f}\")\n",
    "    print(f\"T-Statistic: {t_stat:.4f}\")\n",
    "    print(f\"Critical Value (two-tailed): {critical_value:.4f}\")"
   ]
  }
 ],
 "metadata": {
  "kernelspec": {
   "display_name": "Python 3 (ipykernel)",
   "language": "python",
   "name": "python3"
  },
  "language_info": {
   "codemirror_mode": {
    "name": "ipython",
    "version": 3
   },
   "file_extension": ".py",
   "mimetype": "text/x-python",
   "name": "python",
   "nbconvert_exporter": "python",
   "pygments_lexer": "ipython3",
   "version": "3.10.5"
  }
 },
 "nbformat": 4,
 "nbformat_minor": 5
}
